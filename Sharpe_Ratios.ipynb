{
 "cells": [
  {
   "cell_type": "code",
   "execution_count": 1,
   "id": "0f3f2c58",
   "metadata": {},
   "outputs": [],
   "source": [
    "import numpy as np\n",
    "import pandas as pd\n",
    "import matplotlib.pyplot as plt"
   ]
  },
  {
   "cell_type": "code",
   "execution_count": 2,
   "id": "d97e1090",
   "metadata": {},
   "outputs": [],
   "source": [
    "import pickle"
   ]
  },
  {
   "cell_type": "code",
   "execution_count": 3,
   "id": "3b914b45",
   "metadata": {},
   "outputs": [],
   "source": [
    "Returns = pd.read_csv('Returns.csv')"
   ]
  },
  {
   "cell_type": "code",
   "execution_count": 4,
   "id": "9530cda1",
   "metadata": {},
   "outputs": [
    {
     "data": {
      "text/html": [
       "<div>\n",
       "<style scoped>\n",
       "    .dataframe tbody tr th:only-of-type {\n",
       "        vertical-align: middle;\n",
       "    }\n",
       "\n",
       "    .dataframe tbody tr th {\n",
       "        vertical-align: top;\n",
       "    }\n",
       "\n",
       "    .dataframe thead th {\n",
       "        text-align: right;\n",
       "    }\n",
       "</style>\n",
       "<table border=\"1\" class=\"dataframe\">\n",
       "  <thead>\n",
       "    <tr style=\"text-align: right;\">\n",
       "      <th></th>\n",
       "      <th>Date</th>\n",
       "      <th>MMM</th>\n",
       "      <th>MSFT</th>\n",
       "      <th>JPM</th>\n",
       "      <th>PLD</th>\n",
       "      <th>AMZN</th>\n",
       "      <th>XOM</th>\n",
       "      <th>JNJ</th>\n",
       "      <th>ATT</th>\n",
       "      <th>1Month</th>\n",
       "    </tr>\n",
       "  </thead>\n",
       "  <tbody>\n",
       "    <tr>\n",
       "      <th>0</th>\n",
       "      <td>2019-07-15</td>\n",
       "      <td>0.007937</td>\n",
       "      <td>0.034548</td>\n",
       "      <td>0.023604</td>\n",
       "      <td>0.016968</td>\n",
       "      <td>-0.010929</td>\n",
       "      <td>-0.002400</td>\n",
       "      <td>0.003223</td>\n",
       "      <td>0.041476</td>\n",
       "      <td>2.17</td>\n",
       "    </tr>\n",
       "    <tr>\n",
       "      <th>1</th>\n",
       "      <td>2019-07-22</td>\n",
       "      <td>-0.019715</td>\n",
       "      <td>-0.031414</td>\n",
       "      <td>-0.028308</td>\n",
       "      <td>-0.019486</td>\n",
       "      <td>-0.061661</td>\n",
       "      <td>-0.040904</td>\n",
       "      <td>0.002601</td>\n",
       "      <td>0.000586</td>\n",
       "      <td>2.13</td>\n",
       "    </tr>\n",
       "    <tr>\n",
       "      <th>2</th>\n",
       "      <td>2019-07-29</td>\n",
       "      <td>-0.041513</td>\n",
       "      <td>0.005917</td>\n",
       "      <td>-0.028248</td>\n",
       "      <td>0.016396</td>\n",
       "      <td>-0.008589</td>\n",
       "      <td>-0.012683</td>\n",
       "      <td>0.007400</td>\n",
       "      <td>0.010828</td>\n",
       "      <td>2.12</td>\n",
       "    </tr>\n",
       "    <tr>\n",
       "      <th>3</th>\n",
       "      <td>2019-08-05</td>\n",
       "      <td>-0.012051</td>\n",
       "      <td>-0.011473</td>\n",
       "      <td>-0.018407</td>\n",
       "      <td>0.006844</td>\n",
       "      <td>-0.008304</td>\n",
       "      <td>-0.035855</td>\n",
       "      <td>-0.005150</td>\n",
       "      <td>0.012450</td>\n",
       "      <td>2.07</td>\n",
       "    </tr>\n",
       "    <tr>\n",
       "      <th>4</th>\n",
       "      <td>2019-08-12</td>\n",
       "      <td>-0.026154</td>\n",
       "      <td>-0.016865</td>\n",
       "      <td>-0.015782</td>\n",
       "      <td>-0.006069</td>\n",
       "      <td>-0.023960</td>\n",
       "      <td>0.000427</td>\n",
       "      <td>-0.027634</td>\n",
       "      <td>-0.004290</td>\n",
       "      <td>2.09</td>\n",
       "    </tr>\n",
       "    <tr>\n",
       "      <th>...</th>\n",
       "      <td>...</td>\n",
       "      <td>...</td>\n",
       "      <td>...</td>\n",
       "      <td>...</td>\n",
       "      <td>...</td>\n",
       "      <td>...</td>\n",
       "      <td>...</td>\n",
       "      <td>...</td>\n",
       "      <td>...</td>\n",
       "      <td>...</td>\n",
       "    </tr>\n",
       "    <tr>\n",
       "      <th>256</th>\n",
       "      <td>2024-06-10</td>\n",
       "      <td>0.014767</td>\n",
       "      <td>0.016291</td>\n",
       "      <td>0.013004</td>\n",
       "      <td>-0.025737</td>\n",
       "      <td>0.029511</td>\n",
       "      <td>0.015122</td>\n",
       "      <td>0.022056</td>\n",
       "      <td>0.043084</td>\n",
       "      <td>5.47</td>\n",
       "    </tr>\n",
       "    <tr>\n",
       "      <th>257</th>\n",
       "      <td>2024-06-17</td>\n",
       "      <td>-0.001953</td>\n",
       "      <td>-0.006292</td>\n",
       "      <td>0.030362</td>\n",
       "      <td>0.035452</td>\n",
       "      <td>0.022054</td>\n",
       "      <td>0.039364</td>\n",
       "      <td>-0.017412</td>\n",
       "      <td>0.038587</td>\n",
       "      <td>5.45</td>\n",
       "    </tr>\n",
       "    <tr>\n",
       "      <th>258</th>\n",
       "      <td>2024-06-24</td>\n",
       "      <td>-0.008514</td>\n",
       "      <td>0.046113</td>\n",
       "      <td>0.012509</td>\n",
       "      <td>0.019143</td>\n",
       "      <td>0.034929</td>\n",
       "      <td>-0.015202</td>\n",
       "      <td>0.002189</td>\n",
       "      <td>-0.017792</td>\n",
       "      <td>5.42</td>\n",
       "    </tr>\n",
       "    <tr>\n",
       "      <th>259</th>\n",
       "      <td>2024-07-01</td>\n",
       "      <td>0.026846</td>\n",
       "      <td>-0.029964</td>\n",
       "      <td>0.006278</td>\n",
       "      <td>0.049712</td>\n",
       "      <td>-0.027550</td>\n",
       "      <td>-0.000882</td>\n",
       "      <td>0.023211</td>\n",
       "      <td>0.002131</td>\n",
       "      <td>5.48</td>\n",
       "    </tr>\n",
       "    <tr>\n",
       "      <th>260</th>\n",
       "      <td>2024-07-08</td>\n",
       "      <td>-0.001153</td>\n",
       "      <td>-0.036247</td>\n",
       "      <td>0.023617</td>\n",
       "      <td>0.029963</td>\n",
       "      <td>-0.058409</td>\n",
       "      <td>0.024720</td>\n",
       "      <td>0.032092</td>\n",
       "      <td>0.031737</td>\n",
       "      <td>5.48</td>\n",
       "    </tr>\n",
       "  </tbody>\n",
       "</table>\n",
       "<p>261 rows × 10 columns</p>\n",
       "</div>"
      ],
      "text/plain": [
       "           Date       MMM      MSFT       JPM       PLD      AMZN       XOM  \\\n",
       "0    2019-07-15  0.007937  0.034548  0.023604  0.016968 -0.010929 -0.002400   \n",
       "1    2019-07-22 -0.019715 -0.031414 -0.028308 -0.019486 -0.061661 -0.040904   \n",
       "2    2019-07-29 -0.041513  0.005917 -0.028248  0.016396 -0.008589 -0.012683   \n",
       "3    2019-08-05 -0.012051 -0.011473 -0.018407  0.006844 -0.008304 -0.035855   \n",
       "4    2019-08-12 -0.026154 -0.016865 -0.015782 -0.006069 -0.023960  0.000427   \n",
       "..          ...       ...       ...       ...       ...       ...       ...   \n",
       "256  2024-06-10  0.014767  0.016291  0.013004 -0.025737  0.029511  0.015122   \n",
       "257  2024-06-17 -0.001953 -0.006292  0.030362  0.035452  0.022054  0.039364   \n",
       "258  2024-06-24 -0.008514  0.046113  0.012509  0.019143  0.034929 -0.015202   \n",
       "259  2024-07-01  0.026846 -0.029964  0.006278  0.049712 -0.027550 -0.000882   \n",
       "260  2024-07-08 -0.001153 -0.036247  0.023617  0.029963 -0.058409  0.024720   \n",
       "\n",
       "          JNJ       ATT  1Month  \n",
       "0    0.003223  0.041476    2.17  \n",
       "1    0.002601  0.000586    2.13  \n",
       "2    0.007400  0.010828    2.12  \n",
       "3   -0.005150  0.012450    2.07  \n",
       "4   -0.027634 -0.004290    2.09  \n",
       "..        ...       ...     ...  \n",
       "256  0.022056  0.043084    5.47  \n",
       "257 -0.017412  0.038587    5.45  \n",
       "258  0.002189 -0.017792    5.42  \n",
       "259  0.023211  0.002131    5.48  \n",
       "260  0.032092  0.031737    5.48  \n",
       "\n",
       "[261 rows x 10 columns]"
      ]
     },
     "execution_count": 4,
     "metadata": {},
     "output_type": "execute_result"
    }
   ],
   "source": [
    "Returns"
   ]
  },
  {
   "cell_type": "code",
   "execution_count": 5,
   "id": "e3390068",
   "metadata": {
    "scrolled": true
   },
   "outputs": [],
   "source": [
    "n_runs = 20\n",
    "n_stock = 5\n",
    "seq_len = 4\n",
    "n_iter = 2000\n",
    "batch = 10\n",
    "\n",
    "outRtn_dates = []\n",
    "\n",
    "for scene in range(n_runs):\n",
    "    scene = scene*10\n",
    "    out_of_sample_idx = scene + batch + seq_len\n",
    "    outRtn_dates.append(Returns.iloc[out_of_sample_idx]['Date'])"
   ]
  },
  {
   "cell_type": "code",
   "execution_count": 6,
   "id": "cfea6983",
   "metadata": {},
   "outputs": [
    {
     "data": {
      "text/plain": [
       "['2019-10-21',\n",
       " '2019-12-30',\n",
       " '2020-03-09',\n",
       " '2020-05-18',\n",
       " '2020-07-27',\n",
       " '2020-10-05',\n",
       " '2020-12-14',\n",
       " '2021-02-22',\n",
       " '2021-05-03',\n",
       " '2021-07-12',\n",
       " '2021-09-20',\n",
       " '2021-11-29',\n",
       " '2022-02-07',\n",
       " '2022-04-18',\n",
       " '2022-06-27',\n",
       " '2022-09-05',\n",
       " '2022-11-14',\n",
       " '2023-01-23',\n",
       " '2023-04-03',\n",
       " '2023-06-12']"
      ]
     },
     "execution_count": 6,
     "metadata": {},
     "output_type": "execute_result"
    }
   ],
   "source": [
    "outRtn_dates"
   ]
  },
  {
   "cell_type": "code",
   "execution_count": 7,
   "id": "5cb0ab3a",
   "metadata": {},
   "outputs": [],
   "source": [
    "out_rates = Returns[Returns['Date'].isin(outRtn_dates)]['1Month'].values"
   ]
  },
  {
   "cell_type": "code",
   "execution_count": 8,
   "id": "06887a09",
   "metadata": {},
   "outputs": [
    {
     "data": {
      "text/plain": [
       "array([1.76, 1.51, 0.57, 0.1 , 0.1 , 0.09, 0.07, 0.03, 0.02, 0.05, 0.06,\n",
       "       0.07, 0.03, 0.38, 1.16, 2.45, 3.72, 4.69, 4.7 , 5.24])"
      ]
     },
     "execution_count": 8,
     "metadata": {},
     "output_type": "execute_result"
    }
   ],
   "source": [
    "out_rates"
   ]
  },
  {
   "cell_type": "markdown",
   "id": "b21c1b83",
   "metadata": {},
   "source": [
    "## SCOT Method"
   ]
  },
  {
   "cell_type": "code",
   "execution_count": 9,
   "id": "387cd0a5",
   "metadata": {},
   "outputs": [
    {
     "name": "stdout",
     "output_type": "stream",
     "text": [
      "Radius 0.05 Risk aversion 0.0 18.333828071532213\n",
      "1.0218985243822711 0.05573841537049321\n",
      "Radius 0.1 Risk aversion 0.0 18.429191431378026\n",
      "1.0225107773604774 0.055483214289017785\n",
      "Radius 0.2 Risk aversion 0.0 18.174804727825126\n",
      "1.0202998485743182 0.056138146398473664\n",
      "Radius 0.05 Risk aversion 0.1 21.600879963901285\n",
      "1.0362651158433418 0.04797328245771078\n",
      "Radius 0.1 Risk aversion 0.1 21.107104745791755\n",
      "1.0305976641712515 0.048827050255517764\n",
      "Radius 0.2 Risk aversion 0.1 18.18643650036659\n",
      "1.0115387938598484 0.05562050563558498\n",
      "Radius 0.05 Risk aversion 1.0 20.729889906443155\n",
      "1.0273922358771064 0.04956091134655654\n",
      "Radius 0.1 Risk aversion 1.0 19.278927124954155\n",
      "1.0188521673308333 0.05284797025930228\n",
      "Radius 0.2 Risk aversion 1.0 17.846970458130766\n",
      "1.0170872929013546 0.05698935263480461\n"
     ]
    }
   ],
   "source": [
    "SCOT_Results = np.zeros((9, 20))\n",
    "idx = 0\n",
    "for risk_aver in [0.0, 0.1, 1.0]:\n",
    "    for radi in [0.05, 0.1, 0.2]:\n",
    "        logdir = './logs/mv_SCOT_radi_{}_risk_{}/DRORtn.pickle'.format(radi, risk_aver)\n",
    "        with open(logdir, 'rb') as fp:\n",
    "            SCOT_Rtn = pickle.load(fp)\n",
    "        SCOT_Results[idx, :] = SCOT_Rtn\n",
    "        idx += 1\n",
    "        print('Radius', radi, 'Risk aversion', risk_aver, SCOT_Rtn.mean()/SCOT_Rtn.std())\n",
    "        print(SCOT_Rtn.mean(), SCOT_Rtn.std())"
   ]
  },
  {
   "cell_type": "code",
   "execution_count": 10,
   "id": "8f4ee978",
   "metadata": {},
   "outputs": [],
   "source": [
    "SCOT_df = pd.DataFrame()\n",
    "idx = 0\n",
    "\n",
    "for risk_aver in [0.0, 0.1, 1.0]:\n",
    "    for radi in [0.05, 0.1, 0.2]:\n",
    "        SCOT_df.loc[idx, 'RiskAversion'] = risk_aver\n",
    "        SCOT_df.loc[idx, 'Radius'] = radi\n",
    "        ExcessReturn = SCOT_Results[idx, :] - out_rates/12*0.01 - 1\n",
    "        SCOT_df.loc[idx, 'ExcessReturn_Mean'] = ExcessReturn.mean()\n",
    "        SCOT_df.loc[idx, 'ExcessReturn_STD'] = ExcessReturn.std()\n",
    "        SCOT_df.loc[idx, 'ExcessReturn_Sharpe'] = ExcessReturn.mean()/ExcessReturn.std()*np.sqrt(12)\n",
    "        \n",
    "        idx += 1"
   ]
  },
  {
   "cell_type": "code",
   "execution_count": 11,
   "id": "edbf8520",
   "metadata": {},
   "outputs": [
    {
     "data": {
      "text/html": [
       "<div>\n",
       "<style scoped>\n",
       "    .dataframe tbody tr th:only-of-type {\n",
       "        vertical-align: middle;\n",
       "    }\n",
       "\n",
       "    .dataframe tbody tr th {\n",
       "        vertical-align: top;\n",
       "    }\n",
       "\n",
       "    .dataframe thead th {\n",
       "        text-align: right;\n",
       "    }\n",
       "</style>\n",
       "<table border=\"1\" class=\"dataframe\">\n",
       "  <thead>\n",
       "    <tr style=\"text-align: right;\">\n",
       "      <th></th>\n",
       "      <th>RiskAversion</th>\n",
       "      <th>Radius</th>\n",
       "      <th>ExcessReturn_Mean</th>\n",
       "      <th>ExcessReturn_STD</th>\n",
       "      <th>ExcessReturn_Sharpe</th>\n",
       "    </tr>\n",
       "  </thead>\n",
       "  <tbody>\n",
       "    <tr>\n",
       "      <th>0</th>\n",
       "      <td>0.0</td>\n",
       "      <td>0.05</td>\n",
       "      <td>0.020782</td>\n",
       "      <td>0.056115</td>\n",
       "      <td>1.282913</td>\n",
       "    </tr>\n",
       "    <tr>\n",
       "      <th>1</th>\n",
       "      <td>0.0</td>\n",
       "      <td>0.10</td>\n",
       "      <td>0.021394</td>\n",
       "      <td>0.055855</td>\n",
       "      <td>1.326864</td>\n",
       "    </tr>\n",
       "    <tr>\n",
       "      <th>2</th>\n",
       "      <td>0.0</td>\n",
       "      <td>0.20</td>\n",
       "      <td>0.019183</td>\n",
       "      <td>0.056554</td>\n",
       "      <td>1.175029</td>\n",
       "    </tr>\n",
       "    <tr>\n",
       "      <th>3</th>\n",
       "      <td>0.1</td>\n",
       "      <td>0.05</td>\n",
       "      <td>0.035148</td>\n",
       "      <td>0.048384</td>\n",
       "      <td>2.516465</td>\n",
       "    </tr>\n",
       "    <tr>\n",
       "      <th>4</th>\n",
       "      <td>0.1</td>\n",
       "      <td>0.10</td>\n",
       "      <td>0.029481</td>\n",
       "      <td>0.049208</td>\n",
       "      <td>2.075379</td>\n",
       "    </tr>\n",
       "    <tr>\n",
       "      <th>5</th>\n",
       "      <td>0.1</td>\n",
       "      <td>0.20</td>\n",
       "      <td>0.010422</td>\n",
       "      <td>0.055984</td>\n",
       "      <td>0.644884</td>\n",
       "    </tr>\n",
       "    <tr>\n",
       "      <th>6</th>\n",
       "      <td>1.0</td>\n",
       "      <td>0.05</td>\n",
       "      <td>0.026276</td>\n",
       "      <td>0.049918</td>\n",
       "      <td>1.823429</td>\n",
       "    </tr>\n",
       "    <tr>\n",
       "      <th>7</th>\n",
       "      <td>1.0</td>\n",
       "      <td>0.10</td>\n",
       "      <td>0.017736</td>\n",
       "      <td>0.053126</td>\n",
       "      <td>1.156442</td>\n",
       "    </tr>\n",
       "    <tr>\n",
       "      <th>8</th>\n",
       "      <td>1.0</td>\n",
       "      <td>0.20</td>\n",
       "      <td>0.015971</td>\n",
       "      <td>0.057317</td>\n",
       "      <td>0.965234</td>\n",
       "    </tr>\n",
       "  </tbody>\n",
       "</table>\n",
       "</div>"
      ],
      "text/plain": [
       "   RiskAversion  Radius  ExcessReturn_Mean  ExcessReturn_STD  \\\n",
       "0           0.0    0.05           0.020782          0.056115   \n",
       "1           0.0    0.10           0.021394          0.055855   \n",
       "2           0.0    0.20           0.019183          0.056554   \n",
       "3           0.1    0.05           0.035148          0.048384   \n",
       "4           0.1    0.10           0.029481          0.049208   \n",
       "5           0.1    0.20           0.010422          0.055984   \n",
       "6           1.0    0.05           0.026276          0.049918   \n",
       "7           1.0    0.10           0.017736          0.053126   \n",
       "8           1.0    0.20           0.015971          0.057317   \n",
       "\n",
       "   ExcessReturn_Sharpe  \n",
       "0             1.282913  \n",
       "1             1.326864  \n",
       "2             1.175029  \n",
       "3             2.516465  \n",
       "4             2.075379  \n",
       "5             0.644884  \n",
       "6             1.823429  \n",
       "7             1.156442  \n",
       "8             0.965234  "
      ]
     },
     "execution_count": 11,
     "metadata": {},
     "output_type": "execute_result"
    }
   ],
   "source": [
    "SCOT_df"
   ]
  },
  {
   "cell_type": "code",
   "execution_count": 12,
   "id": "c2803817",
   "metadata": {},
   "outputs": [],
   "source": [
    "SCOT_df.to_csv('SCOT_df.csv', header=True, index=False)"
   ]
  },
  {
   "cell_type": "markdown",
   "id": "a84df378",
   "metadata": {},
   "source": [
    "## Non-robust method"
   ]
  },
  {
   "cell_type": "code",
   "execution_count": 13,
   "id": "981a3c03",
   "metadata": {},
   "outputs": [
    {
     "name": "stdout",
     "output_type": "stream",
     "text": [
      "Risk aversion 0.0 16.47121294713709\n",
      "1.0209980991982672 0.061986819214533306\n",
      "Risk aversion 0.1 16.89390594292983\n",
      "1.0253407014950717 0.06069293299955781\n",
      "Risk aversion 1.0 17.684888723819785\n",
      "1.0235186634700792 0.05787532392508082\n"
     ]
    }
   ],
   "source": [
    "Non_Results = np.zeros((3, 20))\n",
    "idx = 0\n",
    "for risk_aver in [0.0, 0.1, 1.0]:\n",
    "    logdir = './logs/mv_Nonrobust_risk_{}/DRORtn.pickle'.format(risk_aver)\n",
    "    with open(logdir, 'rb') as fp:\n",
    "        Non_Rtn = pickle.load(fp)\n",
    "    Non_Results[idx, :] = Non_Rtn\n",
    "    idx += 1\n",
    "    print('Risk aversion', risk_aver, Non_Rtn.mean()/Non_Rtn.std())\n",
    "    print(Non_Rtn.mean(), Non_Rtn.std())"
   ]
  },
  {
   "cell_type": "code",
   "execution_count": 14,
   "id": "8ad7f7fb",
   "metadata": {},
   "outputs": [],
   "source": [
    "Non_df = pd.DataFrame()\n",
    "idx = 0\n",
    "\n",
    "for risk_aver in [0.0, 0.1, 1.0]:\n",
    "    Non_df.loc[idx, 'RiskAversion'] = risk_aver\n",
    "    ExcessReturn = Non_Results[idx, :] - out_rates/12*0.01 - 1\n",
    "    Non_df.loc[idx, 'ExcessReturn_Mean'] = ExcessReturn.mean()\n",
    "    Non_df.loc[idx, 'ExcessReturn_STD'] = ExcessReturn.std()\n",
    "    Non_df.loc[idx, 'ExcessReturn_Sharpe'] = ExcessReturn.mean()/ExcessReturn.std()*np.sqrt(12)\n",
    "        \n",
    "    idx += 1"
   ]
  },
  {
   "cell_type": "code",
   "execution_count": 15,
   "id": "cdf5e349",
   "metadata": {},
   "outputs": [
    {
     "data": {
      "text/html": [
       "<div>\n",
       "<style scoped>\n",
       "    .dataframe tbody tr th:only-of-type {\n",
       "        vertical-align: middle;\n",
       "    }\n",
       "\n",
       "    .dataframe tbody tr th {\n",
       "        vertical-align: top;\n",
       "    }\n",
       "\n",
       "    .dataframe thead th {\n",
       "        text-align: right;\n",
       "    }\n",
       "</style>\n",
       "<table border=\"1\" class=\"dataframe\">\n",
       "  <thead>\n",
       "    <tr style=\"text-align: right;\">\n",
       "      <th></th>\n",
       "      <th>RiskAversion</th>\n",
       "      <th>ExcessReturn_Mean</th>\n",
       "      <th>ExcessReturn_STD</th>\n",
       "      <th>ExcessReturn_Sharpe</th>\n",
       "    </tr>\n",
       "  </thead>\n",
       "  <tbody>\n",
       "    <tr>\n",
       "      <th>0</th>\n",
       "      <td>0.0</td>\n",
       "      <td>0.019881</td>\n",
       "      <td>0.062420</td>\n",
       "      <td>1.103347</td>\n",
       "    </tr>\n",
       "    <tr>\n",
       "      <th>1</th>\n",
       "      <td>0.1</td>\n",
       "      <td>0.024224</td>\n",
       "      <td>0.061018</td>\n",
       "      <td>1.375235</td>\n",
       "    </tr>\n",
       "    <tr>\n",
       "      <th>2</th>\n",
       "      <td>1.0</td>\n",
       "      <td>0.022402</td>\n",
       "      <td>0.058163</td>\n",
       "      <td>1.334227</td>\n",
       "    </tr>\n",
       "  </tbody>\n",
       "</table>\n",
       "</div>"
      ],
      "text/plain": [
       "   RiskAversion  ExcessReturn_Mean  ExcessReturn_STD  ExcessReturn_Sharpe\n",
       "0           0.0           0.019881          0.062420             1.103347\n",
       "1           0.1           0.024224          0.061018             1.375235\n",
       "2           1.0           0.022402          0.058163             1.334227"
      ]
     },
     "execution_count": 15,
     "metadata": {},
     "output_type": "execute_result"
    }
   ],
   "source": [
    "Non_df"
   ]
  },
  {
   "cell_type": "code",
   "execution_count": 16,
   "id": "7c203903",
   "metadata": {},
   "outputs": [],
   "source": [
    "Non_df.to_csv('Non_df.csv', header=True, index=False)"
   ]
  },
  {
   "cell_type": "markdown",
   "id": "c82bbb43",
   "metadata": {},
   "source": [
    "## Naive method (As a sanity check, it should be the same while risk aversion/radius is different)"
   ]
  },
  {
   "cell_type": "code",
   "execution_count": 26,
   "id": "a2a868b7",
   "metadata": {},
   "outputs": [
    {
     "name": "stdout",
     "output_type": "stream",
     "text": [
      "Risk aversion 0.0 19.568668673641902\n",
      "1.0110756796712426 0.05166808721295972\n",
      "Risk aversion 0.1 19.568668673641902\n",
      "1.0110756796712426 0.05166808721295972\n",
      "Risk aversion 1.0 19.568668673641902\n",
      "1.0110756796712426 0.05166808721295972\n"
     ]
    }
   ],
   "source": [
    "Naive_Results = np.zeros((3, 20))\n",
    "idx = 0\n",
    "for risk_aver in [0.0, 0.1, 1.0]:\n",
    "    logdir = './logs/mv_Nonrobust_risk_{}/NaiveRtn.pickle'.format(risk_aver)\n",
    "    with open(logdir, 'rb') as fp:\n",
    "        Naive_Rtn = pickle.load(fp)\n",
    "    Naive_Results[idx, :] = Naive_Rtn\n",
    "    idx += 1\n",
    "    print('Risk aversion', risk_aver, Naive_Rtn.mean()/Naive_Rtn.std())\n",
    "    print(Naive_Rtn.mean(), Naive_Rtn.std())"
   ]
  },
  {
   "cell_type": "code",
   "execution_count": 18,
   "id": "aabdf6bc",
   "metadata": {},
   "outputs": [
    {
     "name": "stdout",
     "output_type": "stream",
     "text": [
      "Radius 0.05 Risk aversion 0.0 19.568668673641902\n",
      "1.0110756796712426 0.05166808721295972\n",
      "Radius 0.1 Risk aversion 0.0 19.568668673641902\n",
      "1.0110756796712426 0.05166808721295972\n",
      "Radius 0.2 Risk aversion 0.0 19.568668673641902\n",
      "1.0110756796712426 0.05166808721295972\n",
      "Radius 0.05 Risk aversion 0.1 19.568668673641902\n",
      "1.0110756796712426 0.05166808721295972\n",
      "Radius 0.1 Risk aversion 0.1 19.568668673641902\n",
      "1.0110756796712426 0.05166808721295972\n",
      "Radius 0.2 Risk aversion 0.1 19.568668673641902\n",
      "1.0110756796712426 0.05166808721295972\n",
      "Radius 0.05 Risk aversion 1.0 19.568668673641902\n",
      "1.0110756796712426 0.05166808721295972\n",
      "Radius 0.1 Risk aversion 1.0 19.568668673641902\n",
      "1.0110756796712426 0.05166808721295972\n",
      "Radius 0.2 Risk aversion 1.0 19.568668673641902\n",
      "1.0110756796712426 0.05166808721295972\n"
     ]
    }
   ],
   "source": [
    "Naive_Results = np.zeros((9, 20))\n",
    "idx = 0\n",
    "for risk_aver in [0.0, 0.1, 1.0]:\n",
    "    for radi in [0.05, 0.1, 0.2]:\n",
    "        logdir = './logs/mv_SCOT_radi_{}_risk_{}/NaiveRtn.pickle'.format(radi, risk_aver)\n",
    "        with open(logdir, 'rb') as fp:\n",
    "            Naive_Rtn = pickle.load(fp)\n",
    "        Naive_Results[idx, :] = Naive_Rtn\n",
    "        idx += 1\n",
    "        print('Radius', radi, 'Risk aversion', risk_aver, Naive_Rtn.mean()/Naive_Rtn.std())\n",
    "        print(Naive_Rtn.mean(), Naive_Rtn.std())"
   ]
  },
  {
   "cell_type": "code",
   "execution_count": 19,
   "id": "009a9179",
   "metadata": {},
   "outputs": [],
   "source": [
    "Naive_df = pd.DataFrame()\n",
    "idx = 0\n",
    "\n",
    "for risk_aver in [0.0, 0.1, 1.0]:\n",
    "    Naive_df.loc[idx, 'RiskAversion'] = risk_aver\n",
    "    ExcessReturn = Naive_Results[idx, :] - out_rates/12*0.01 - 1\n",
    "    Naive_df.loc[idx, 'ExcessReturn_Mean'] = ExcessReturn.mean()\n",
    "    Naive_df.loc[idx, 'ExcessReturn_STD'] = ExcessReturn.std()\n",
    "    Naive_df.loc[idx, 'ExcessReturn_Sharpe'] = ExcessReturn.mean()/ExcessReturn.std()*np.sqrt(12)\n",
    "        \n",
    "    idx += 1"
   ]
  },
  {
   "cell_type": "code",
   "execution_count": 20,
   "id": "aa7ea15b",
   "metadata": {},
   "outputs": [
    {
     "data": {
      "text/html": [
       "<div>\n",
       "<style scoped>\n",
       "    .dataframe tbody tr th:only-of-type {\n",
       "        vertical-align: middle;\n",
       "    }\n",
       "\n",
       "    .dataframe tbody tr th {\n",
       "        vertical-align: top;\n",
       "    }\n",
       "\n",
       "    .dataframe thead th {\n",
       "        text-align: right;\n",
       "    }\n",
       "</style>\n",
       "<table border=\"1\" class=\"dataframe\">\n",
       "  <thead>\n",
       "    <tr style=\"text-align: right;\">\n",
       "      <th></th>\n",
       "      <th>RiskAversion</th>\n",
       "      <th>ExcessReturn_Mean</th>\n",
       "      <th>ExcessReturn_STD</th>\n",
       "      <th>ExcessReturn_Sharpe</th>\n",
       "    </tr>\n",
       "  </thead>\n",
       "  <tbody>\n",
       "    <tr>\n",
       "      <th>0</th>\n",
       "      <td>0.0</td>\n",
       "      <td>0.009959</td>\n",
       "      <td>0.052015</td>\n",
       "      <td>0.663254</td>\n",
       "    </tr>\n",
       "    <tr>\n",
       "      <th>1</th>\n",
       "      <td>0.1</td>\n",
       "      <td>0.009959</td>\n",
       "      <td>0.052015</td>\n",
       "      <td>0.663254</td>\n",
       "    </tr>\n",
       "    <tr>\n",
       "      <th>2</th>\n",
       "      <td>1.0</td>\n",
       "      <td>0.009959</td>\n",
       "      <td>0.052015</td>\n",
       "      <td>0.663254</td>\n",
       "    </tr>\n",
       "  </tbody>\n",
       "</table>\n",
       "</div>"
      ],
      "text/plain": [
       "   RiskAversion  ExcessReturn_Mean  ExcessReturn_STD  ExcessReturn_Sharpe\n",
       "0           0.0           0.009959          0.052015             0.663254\n",
       "1           0.1           0.009959          0.052015             0.663254\n",
       "2           1.0           0.009959          0.052015             0.663254"
      ]
     },
     "execution_count": 20,
     "metadata": {},
     "output_type": "execute_result"
    }
   ],
   "source": [
    "Naive_df"
   ]
  },
  {
   "cell_type": "code",
   "execution_count": 21,
   "id": "6699cef6",
   "metadata": {},
   "outputs": [],
   "source": [
    "Naive_df.to_csv('Naive_df.csv', header=True, index=False)"
   ]
  },
  {
   "cell_type": "markdown",
   "id": "1bc9180e",
   "metadata": {},
   "source": [
    "## OT Method"
   ]
  },
  {
   "cell_type": "code",
   "execution_count": 22,
   "id": "1ddc40bb",
   "metadata": {},
   "outputs": [
    {
     "name": "stdout",
     "output_type": "stream",
     "text": [
      "Radius 0.05 Risk aversion 0.0 19.444214813468562\n",
      "1.011318461272276 0.052011277954600615\n",
      "Radius 0.1 Risk aversion 0.0 18.87868219814078\n",
      "1.0127894715060966 0.05364725465879385\n",
      "Radius 0.2 Risk aversion 0.0 19.654746371978852\n",
      "1.0188076094439746 0.051835194927595515\n",
      "Radius 0.05 Risk aversion 0.1 19.928738899124102\n",
      "1.0132159139999874 0.05084194836054176\n",
      "Radius 0.1 Risk aversion 0.1 19.1814569160587\n",
      "1.0130609592839426 0.052814599209917615\n",
      "Radius 0.2 Risk aversion 0.1 20.834881023566513\n",
      "1.0216407256868827 0.049035112057097714\n",
      "Radius 0.05 Risk aversion 1.0 19.650365471254855\n",
      "1.01105694010774 0.051452322430681735\n",
      "Radius 0.1 Risk aversion 1.0 19.449945527717826\n",
      "1.011221589782684 0.05199097284573919\n",
      "Radius 0.2 Risk aversion 1.0 19.55179067472692\n",
      "1.0127259463491458 0.05179709435301074\n"
     ]
    }
   ],
   "source": [
    "OT_Results = np.zeros((9, 20))\n",
    "idx = 0\n",
    "for risk_aver in [0.0, 0.1, 1.0]:\n",
    "    for radi in [0.05, 0.1, 0.2]:\n",
    "        logdir = './logs/mv_OT_radi_{}_risk_{}/DRORtn.pickle'.format(radi, risk_aver)\n",
    "        with open(logdir, 'rb') as fp:\n",
    "            OT_Rtn = pickle.load(fp)\n",
    "        OT_Results[idx, :] = OT_Rtn\n",
    "        idx += 1\n",
    "        print('Radius', radi, 'Risk aversion', risk_aver, OT_Rtn.mean()/OT_Rtn.std())\n",
    "        print(OT_Rtn.mean(), OT_Rtn.std())"
   ]
  },
  {
   "cell_type": "code",
   "execution_count": 23,
   "id": "5af016f0",
   "metadata": {},
   "outputs": [],
   "source": [
    "OT_df = pd.DataFrame()\n",
    "idx = 0\n",
    "\n",
    "for risk_aver in [0.0, 0.1, 1.0]:\n",
    "    for radi in [0.05, 0.1, 0.2]:\n",
    "        OT_df.loc[idx, 'RiskAversion'] = risk_aver\n",
    "        OT_df.loc[idx, 'Radius'] = radi\n",
    "        ExcessReturn = OT_Results[idx, :] - out_rates/12*0.01 - 1\n",
    "        OT_df.loc[idx, 'ExcessReturn_Mean'] = ExcessReturn.mean()\n",
    "        OT_df.loc[idx, 'ExcessReturn_STD'] = ExcessReturn.std()\n",
    "        OT_df.loc[idx, 'ExcessReturn_Sharpe'] = ExcessReturn.mean()/ExcessReturn.std()*np.sqrt(12)\n",
    "        \n",
    "        idx += 1"
   ]
  },
  {
   "cell_type": "code",
   "execution_count": 24,
   "id": "1fbf0293",
   "metadata": {},
   "outputs": [
    {
     "data": {
      "text/html": [
       "<div>\n",
       "<style scoped>\n",
       "    .dataframe tbody tr th:only-of-type {\n",
       "        vertical-align: middle;\n",
       "    }\n",
       "\n",
       "    .dataframe tbody tr th {\n",
       "        vertical-align: top;\n",
       "    }\n",
       "\n",
       "    .dataframe thead th {\n",
       "        text-align: right;\n",
       "    }\n",
       "</style>\n",
       "<table border=\"1\" class=\"dataframe\">\n",
       "  <thead>\n",
       "    <tr style=\"text-align: right;\">\n",
       "      <th></th>\n",
       "      <th>RiskAversion</th>\n",
       "      <th>Radius</th>\n",
       "      <th>ExcessReturn_Mean</th>\n",
       "      <th>ExcessReturn_STD</th>\n",
       "      <th>ExcessReturn_Sharpe</th>\n",
       "    </tr>\n",
       "  </thead>\n",
       "  <tbody>\n",
       "    <tr>\n",
       "      <th>0</th>\n",
       "      <td>0.0</td>\n",
       "      <td>0.05</td>\n",
       "      <td>0.010202</td>\n",
       "      <td>0.052347</td>\n",
       "      <td>0.675112</td>\n",
       "    </tr>\n",
       "    <tr>\n",
       "      <th>1</th>\n",
       "      <td>0.0</td>\n",
       "      <td>0.10</td>\n",
       "      <td>0.011673</td>\n",
       "      <td>0.054013</td>\n",
       "      <td>0.748633</td>\n",
       "    </tr>\n",
       "    <tr>\n",
       "      <th>2</th>\n",
       "      <td>0.0</td>\n",
       "      <td>0.20</td>\n",
       "      <td>0.017691</td>\n",
       "      <td>0.052266</td>\n",
       "      <td>1.172529</td>\n",
       "    </tr>\n",
       "    <tr>\n",
       "      <th>3</th>\n",
       "      <td>0.1</td>\n",
       "      <td>0.05</td>\n",
       "      <td>0.012099</td>\n",
       "      <td>0.051181</td>\n",
       "      <td>0.818912</td>\n",
       "    </tr>\n",
       "    <tr>\n",
       "      <th>4</th>\n",
       "      <td>0.1</td>\n",
       "      <td>0.10</td>\n",
       "      <td>0.011944</td>\n",
       "      <td>0.053193</td>\n",
       "      <td>0.777849</td>\n",
       "    </tr>\n",
       "    <tr>\n",
       "      <th>5</th>\n",
       "      <td>0.1</td>\n",
       "      <td>0.20</td>\n",
       "      <td>0.020524</td>\n",
       "      <td>0.049505</td>\n",
       "      <td>1.436157</td>\n",
       "    </tr>\n",
       "    <tr>\n",
       "      <th>6</th>\n",
       "      <td>1.0</td>\n",
       "      <td>0.05</td>\n",
       "      <td>0.009940</td>\n",
       "      <td>0.051777</td>\n",
       "      <td>0.665048</td>\n",
       "    </tr>\n",
       "    <tr>\n",
       "      <th>7</th>\n",
       "      <td>1.0</td>\n",
       "      <td>0.10</td>\n",
       "      <td>0.010105</td>\n",
       "      <td>0.052340</td>\n",
       "      <td>0.668790</td>\n",
       "    </tr>\n",
       "    <tr>\n",
       "      <th>8</th>\n",
       "      <td>1.0</td>\n",
       "      <td>0.20</td>\n",
       "      <td>0.011609</td>\n",
       "      <td>0.052175</td>\n",
       "      <td>0.770787</td>\n",
       "    </tr>\n",
       "  </tbody>\n",
       "</table>\n",
       "</div>"
      ],
      "text/plain": [
       "   RiskAversion  Radius  ExcessReturn_Mean  ExcessReturn_STD  \\\n",
       "0           0.0    0.05           0.010202          0.052347   \n",
       "1           0.0    0.10           0.011673          0.054013   \n",
       "2           0.0    0.20           0.017691          0.052266   \n",
       "3           0.1    0.05           0.012099          0.051181   \n",
       "4           0.1    0.10           0.011944          0.053193   \n",
       "5           0.1    0.20           0.020524          0.049505   \n",
       "6           1.0    0.05           0.009940          0.051777   \n",
       "7           1.0    0.10           0.010105          0.052340   \n",
       "8           1.0    0.20           0.011609          0.052175   \n",
       "\n",
       "   ExcessReturn_Sharpe  \n",
       "0             0.675112  \n",
       "1             0.748633  \n",
       "2             1.172529  \n",
       "3             0.818912  \n",
       "4             0.777849  \n",
       "5             1.436157  \n",
       "6             0.665048  \n",
       "7             0.668790  \n",
       "8             0.770787  "
      ]
     },
     "execution_count": 24,
     "metadata": {},
     "output_type": "execute_result"
    }
   ],
   "source": [
    "OT_df"
   ]
  },
  {
   "cell_type": "code",
   "execution_count": 25,
   "id": "a4f18d92",
   "metadata": {},
   "outputs": [],
   "source": [
    "OT_df.to_csv('OT_df.csv', header=True, index=False)"
   ]
  },
  {
   "cell_type": "code",
   "execution_count": null,
   "id": "ea869b1e",
   "metadata": {},
   "outputs": [],
   "source": []
  },
  {
   "cell_type": "code",
   "execution_count": null,
   "id": "f29adc68",
   "metadata": {},
   "outputs": [],
   "source": []
  },
  {
   "cell_type": "code",
   "execution_count": null,
   "id": "45988c6e",
   "metadata": {},
   "outputs": [],
   "source": []
  },
  {
   "cell_type": "code",
   "execution_count": null,
   "id": "60f90ec4",
   "metadata": {},
   "outputs": [],
   "source": []
  },
  {
   "cell_type": "code",
   "execution_count": null,
   "id": "5f7adbf9",
   "metadata": {},
   "outputs": [],
   "source": [
    "import torch"
   ]
  },
  {
   "cell_type": "code",
   "execution_count": null,
   "id": "e577ffdd",
   "metadata": {},
   "outputs": [],
   "source": [
    "x=torch.ones(2, requires_grad=True)\n",
    "y=1.2*x\n",
    "z=3+x.detach()\n",
    "r=(y+z).sum()\n",
    "\n",
    "r.backward()\n",
    "x.grad"
   ]
  },
  {
   "cell_type": "code",
   "execution_count": null,
   "id": "70ea4fc5",
   "metadata": {},
   "outputs": [],
   "source": [
    "z.grad"
   ]
  },
  {
   "cell_type": "code",
   "execution_count": null,
   "id": "a8f37785",
   "metadata": {},
   "outputs": [],
   "source": []
  }
 ],
 "metadata": {
  "kernelspec": {
   "display_name": "Python 3 (ipykernel)",
   "language": "python",
   "name": "python3"
  },
  "language_info": {
   "codemirror_mode": {
    "name": "ipython",
    "version": 3
   },
   "file_extension": ".py",
   "mimetype": "text/x-python",
   "name": "python",
   "nbconvert_exporter": "python",
   "pygments_lexer": "ipython3",
   "version": "3.9.16"
  }
 },
 "nbformat": 4,
 "nbformat_minor": 5
}
