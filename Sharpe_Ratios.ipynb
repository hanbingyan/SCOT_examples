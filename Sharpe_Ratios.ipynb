{
 "cells": [
  {
   "cell_type": "code",
   "execution_count": 1,
   "id": "0f3f2c58",
   "metadata": {},
   "outputs": [],
   "source": [
    "import numpy as np\n",
    "import pandas as pd\n",
    "import matplotlib.pyplot as plt"
   ]
  },
  {
   "cell_type": "code",
   "execution_count": 2,
   "id": "d97e1090",
   "metadata": {},
   "outputs": [],
   "source": [
    "import pickle"
   ]
  },
  {
   "cell_type": "code",
   "execution_count": 3,
   "id": "d995c49f",
   "metadata": {},
   "outputs": [],
   "source": [
    "pd.set_option(\"display.precision\", 4)"
   ]
  },
  {
   "cell_type": "code",
   "execution_count": 4,
   "id": "3b914b45",
   "metadata": {},
   "outputs": [],
   "source": [
    "Returns = pd.read_csv('Returns.csv')"
   ]
  },
  {
   "cell_type": "code",
   "execution_count": 5,
   "id": "9530cda1",
   "metadata": {},
   "outputs": [
    {
     "data": {
      "text/html": [
       "<div>\n",
       "<style scoped>\n",
       "    .dataframe tbody tr th:only-of-type {\n",
       "        vertical-align: middle;\n",
       "    }\n",
       "\n",
       "    .dataframe tbody tr th {\n",
       "        vertical-align: top;\n",
       "    }\n",
       "\n",
       "    .dataframe thead th {\n",
       "        text-align: right;\n",
       "    }\n",
       "</style>\n",
       "<table border=\"1\" class=\"dataframe\">\n",
       "  <thead>\n",
       "    <tr style=\"text-align: right;\">\n",
       "      <th></th>\n",
       "      <th>Date</th>\n",
       "      <th>MMM</th>\n",
       "      <th>MSFT</th>\n",
       "      <th>JPM</th>\n",
       "      <th>PLD</th>\n",
       "      <th>AMZN</th>\n",
       "      <th>XOM</th>\n",
       "      <th>JNJ</th>\n",
       "      <th>ATT</th>\n",
       "      <th>1Month</th>\n",
       "    </tr>\n",
       "  </thead>\n",
       "  <tbody>\n",
       "    <tr>\n",
       "      <th>0</th>\n",
       "      <td>2019-07-15</td>\n",
       "      <td>0.0079</td>\n",
       "      <td>0.0345</td>\n",
       "      <td>0.0236</td>\n",
       "      <td>0.0170</td>\n",
       "      <td>-0.0109</td>\n",
       "      <td>-0.0024</td>\n",
       "      <td>0.0032</td>\n",
       "      <td>0.0415</td>\n",
       "      <td>2.17</td>\n",
       "    </tr>\n",
       "    <tr>\n",
       "      <th>1</th>\n",
       "      <td>2019-07-22</td>\n",
       "      <td>-0.0197</td>\n",
       "      <td>-0.0314</td>\n",
       "      <td>-0.0283</td>\n",
       "      <td>-0.0195</td>\n",
       "      <td>-0.0617</td>\n",
       "      <td>-0.0409</td>\n",
       "      <td>0.0026</td>\n",
       "      <td>0.0006</td>\n",
       "      <td>2.13</td>\n",
       "    </tr>\n",
       "    <tr>\n",
       "      <th>2</th>\n",
       "      <td>2019-07-29</td>\n",
       "      <td>-0.0415</td>\n",
       "      <td>0.0059</td>\n",
       "      <td>-0.0282</td>\n",
       "      <td>0.0164</td>\n",
       "      <td>-0.0086</td>\n",
       "      <td>-0.0127</td>\n",
       "      <td>0.0074</td>\n",
       "      <td>0.0108</td>\n",
       "      <td>2.12</td>\n",
       "    </tr>\n",
       "    <tr>\n",
       "      <th>3</th>\n",
       "      <td>2019-08-05</td>\n",
       "      <td>-0.0121</td>\n",
       "      <td>-0.0115</td>\n",
       "      <td>-0.0184</td>\n",
       "      <td>0.0068</td>\n",
       "      <td>-0.0083</td>\n",
       "      <td>-0.0359</td>\n",
       "      <td>-0.0051</td>\n",
       "      <td>0.0124</td>\n",
       "      <td>2.07</td>\n",
       "    </tr>\n",
       "    <tr>\n",
       "      <th>4</th>\n",
       "      <td>2019-08-12</td>\n",
       "      <td>-0.0262</td>\n",
       "      <td>-0.0169</td>\n",
       "      <td>-0.0158</td>\n",
       "      <td>-0.0061</td>\n",
       "      <td>-0.0240</td>\n",
       "      <td>0.0004</td>\n",
       "      <td>-0.0276</td>\n",
       "      <td>-0.0043</td>\n",
       "      <td>2.09</td>\n",
       "    </tr>\n",
       "    <tr>\n",
       "      <th>...</th>\n",
       "      <td>...</td>\n",
       "      <td>...</td>\n",
       "      <td>...</td>\n",
       "      <td>...</td>\n",
       "      <td>...</td>\n",
       "      <td>...</td>\n",
       "      <td>...</td>\n",
       "      <td>...</td>\n",
       "      <td>...</td>\n",
       "      <td>...</td>\n",
       "    </tr>\n",
       "    <tr>\n",
       "      <th>256</th>\n",
       "      <td>2024-06-10</td>\n",
       "      <td>0.0148</td>\n",
       "      <td>0.0163</td>\n",
       "      <td>0.0130</td>\n",
       "      <td>-0.0257</td>\n",
       "      <td>0.0295</td>\n",
       "      <td>0.0151</td>\n",
       "      <td>0.0221</td>\n",
       "      <td>0.0431</td>\n",
       "      <td>5.47</td>\n",
       "    </tr>\n",
       "    <tr>\n",
       "      <th>257</th>\n",
       "      <td>2024-06-17</td>\n",
       "      <td>-0.0020</td>\n",
       "      <td>-0.0063</td>\n",
       "      <td>0.0304</td>\n",
       "      <td>0.0355</td>\n",
       "      <td>0.0221</td>\n",
       "      <td>0.0394</td>\n",
       "      <td>-0.0174</td>\n",
       "      <td>0.0386</td>\n",
       "      <td>5.45</td>\n",
       "    </tr>\n",
       "    <tr>\n",
       "      <th>258</th>\n",
       "      <td>2024-06-24</td>\n",
       "      <td>-0.0085</td>\n",
       "      <td>0.0461</td>\n",
       "      <td>0.0125</td>\n",
       "      <td>0.0191</td>\n",
       "      <td>0.0349</td>\n",
       "      <td>-0.0152</td>\n",
       "      <td>0.0022</td>\n",
       "      <td>-0.0178</td>\n",
       "      <td>5.42</td>\n",
       "    </tr>\n",
       "    <tr>\n",
       "      <th>259</th>\n",
       "      <td>2024-07-01</td>\n",
       "      <td>0.0268</td>\n",
       "      <td>-0.0300</td>\n",
       "      <td>0.0063</td>\n",
       "      <td>0.0497</td>\n",
       "      <td>-0.0275</td>\n",
       "      <td>-0.0009</td>\n",
       "      <td>0.0232</td>\n",
       "      <td>0.0021</td>\n",
       "      <td>5.48</td>\n",
       "    </tr>\n",
       "    <tr>\n",
       "      <th>260</th>\n",
       "      <td>2024-07-08</td>\n",
       "      <td>-0.0012</td>\n",
       "      <td>-0.0362</td>\n",
       "      <td>0.0236</td>\n",
       "      <td>0.0300</td>\n",
       "      <td>-0.0584</td>\n",
       "      <td>0.0247</td>\n",
       "      <td>0.0321</td>\n",
       "      <td>0.0317</td>\n",
       "      <td>5.48</td>\n",
       "    </tr>\n",
       "  </tbody>\n",
       "</table>\n",
       "<p>261 rows × 10 columns</p>\n",
       "</div>"
      ],
      "text/plain": [
       "           Date     MMM    MSFT     JPM     PLD    AMZN     XOM     JNJ  \\\n",
       "0    2019-07-15  0.0079  0.0345  0.0236  0.0170 -0.0109 -0.0024  0.0032   \n",
       "1    2019-07-22 -0.0197 -0.0314 -0.0283 -0.0195 -0.0617 -0.0409  0.0026   \n",
       "2    2019-07-29 -0.0415  0.0059 -0.0282  0.0164 -0.0086 -0.0127  0.0074   \n",
       "3    2019-08-05 -0.0121 -0.0115 -0.0184  0.0068 -0.0083 -0.0359 -0.0051   \n",
       "4    2019-08-12 -0.0262 -0.0169 -0.0158 -0.0061 -0.0240  0.0004 -0.0276   \n",
       "..          ...     ...     ...     ...     ...     ...     ...     ...   \n",
       "256  2024-06-10  0.0148  0.0163  0.0130 -0.0257  0.0295  0.0151  0.0221   \n",
       "257  2024-06-17 -0.0020 -0.0063  0.0304  0.0355  0.0221  0.0394 -0.0174   \n",
       "258  2024-06-24 -0.0085  0.0461  0.0125  0.0191  0.0349 -0.0152  0.0022   \n",
       "259  2024-07-01  0.0268 -0.0300  0.0063  0.0497 -0.0275 -0.0009  0.0232   \n",
       "260  2024-07-08 -0.0012 -0.0362  0.0236  0.0300 -0.0584  0.0247  0.0321   \n",
       "\n",
       "        ATT  1Month  \n",
       "0    0.0415    2.17  \n",
       "1    0.0006    2.13  \n",
       "2    0.0108    2.12  \n",
       "3    0.0124    2.07  \n",
       "4   -0.0043    2.09  \n",
       "..      ...     ...  \n",
       "256  0.0431    5.47  \n",
       "257  0.0386    5.45  \n",
       "258 -0.0178    5.42  \n",
       "259  0.0021    5.48  \n",
       "260  0.0317    5.48  \n",
       "\n",
       "[261 rows x 10 columns]"
      ]
     },
     "execution_count": 5,
     "metadata": {},
     "output_type": "execute_result"
    }
   ],
   "source": [
    "Returns"
   ]
  },
  {
   "cell_type": "code",
   "execution_count": 6,
   "id": "e3390068",
   "metadata": {
    "scrolled": true
   },
   "outputs": [],
   "source": [
    "n_runs = 20\n",
    "n_stock = 5\n",
    "seq_len = 4\n",
    "n_iter = 2000\n",
    "batch = 10\n",
    "\n",
    "outRtn_dates = []\n",
    "\n",
    "for scene in range(n_runs):\n",
    "    scene = scene*10\n",
    "    out_of_sample_idx = scene + batch + seq_len\n",
    "    outRtn_dates.append(Returns.iloc[out_of_sample_idx]['Date'])"
   ]
  },
  {
   "cell_type": "code",
   "execution_count": 7,
   "id": "cfea6983",
   "metadata": {},
   "outputs": [
    {
     "data": {
      "text/plain": [
       "['2019-10-21',\n",
       " '2019-12-30',\n",
       " '2020-03-09',\n",
       " '2020-05-18',\n",
       " '2020-07-27',\n",
       " '2020-10-05',\n",
       " '2020-12-14',\n",
       " '2021-02-22',\n",
       " '2021-05-03',\n",
       " '2021-07-12',\n",
       " '2021-09-20',\n",
       " '2021-11-29',\n",
       " '2022-02-07',\n",
       " '2022-04-18',\n",
       " '2022-06-27',\n",
       " '2022-09-05',\n",
       " '2022-11-14',\n",
       " '2023-01-23',\n",
       " '2023-04-03',\n",
       " '2023-06-12']"
      ]
     },
     "execution_count": 7,
     "metadata": {},
     "output_type": "execute_result"
    }
   ],
   "source": [
    "outRtn_dates"
   ]
  },
  {
   "cell_type": "code",
   "execution_count": 8,
   "id": "5cb0ab3a",
   "metadata": {},
   "outputs": [],
   "source": [
    "out_rates = Returns[Returns['Date'].isin(outRtn_dates)]['1Month'].values"
   ]
  },
  {
   "cell_type": "code",
   "execution_count": 9,
   "id": "06887a09",
   "metadata": {},
   "outputs": [
    {
     "data": {
      "text/plain": [
       "array([1.76, 1.51, 0.57, 0.1 , 0.1 , 0.09, 0.07, 0.03, 0.02, 0.05, 0.06,\n",
       "       0.07, 0.03, 0.38, 1.16, 2.45, 3.72, 4.69, 4.7 , 5.24])"
      ]
     },
     "execution_count": 9,
     "metadata": {},
     "output_type": "execute_result"
    }
   ],
   "source": [
    "out_rates"
   ]
  },
  {
   "cell_type": "markdown",
   "id": "b21c1b83",
   "metadata": {},
   "source": [
    "## SCOT Method"
   ]
  },
  {
   "cell_type": "code",
   "execution_count": 10,
   "id": "387cd0a5",
   "metadata": {},
   "outputs": [
    {
     "name": "stdout",
     "output_type": "stream",
     "text": [
      "Radius 0.05 Risk aversion 0.0 18.333828071532213\n",
      "1.0218985243822711 0.05573841537049321\n",
      "Radius 0.1 Risk aversion 0.0 18.429191431378026\n",
      "1.0225107773604774 0.055483214289017785\n",
      "Radius 0.2 Risk aversion 0.0 18.174804727825126\n",
      "1.0202998485743182 0.056138146398473664\n",
      "Radius 0.05 Risk aversion 0.1 21.600879963901285\n",
      "1.0362651158433418 0.04797328245771078\n",
      "Radius 0.1 Risk aversion 0.1 21.107104745791755\n",
      "1.0305976641712515 0.048827050255517764\n",
      "Radius 0.2 Risk aversion 0.1 18.18643650036659\n",
      "1.0115387938598484 0.05562050563558498\n",
      "Radius 0.05 Risk aversion 1.0 20.729889906443155\n",
      "1.0273922358771064 0.04956091134655654\n",
      "Radius 0.1 Risk aversion 1.0 19.278927124954155\n",
      "1.0188521673308333 0.05284797025930228\n",
      "Radius 0.2 Risk aversion 1.0 17.846970458130766\n",
      "1.0170872929013546 0.05698935263480461\n"
     ]
    }
   ],
   "source": [
    "SCOT_Results = np.zeros((9, 20))\n",
    "idx = 0\n",
    "for risk_aver in [0.0, 0.1, 1.0]:\n",
    "    for radi in [0.05, 0.1, 0.2]:\n",
    "        logdir = './logs/mv_SCOT_radi_{}_risk_{}/DRORtn.pickle'.format(radi, risk_aver)\n",
    "        with open(logdir, 'rb') as fp:\n",
    "            SCOT_Rtn = pickle.load(fp)\n",
    "        SCOT_Results[idx, :] = SCOT_Rtn\n",
    "        idx += 1\n",
    "        print('Radius', radi, 'Risk aversion', risk_aver, SCOT_Rtn.mean()/SCOT_Rtn.std())\n",
    "        print(SCOT_Rtn.mean(), SCOT_Rtn.std())"
   ]
  },
  {
   "cell_type": "code",
   "execution_count": 11,
   "id": "8f4ee978",
   "metadata": {},
   "outputs": [],
   "source": [
    "SCOT_df = pd.DataFrame()\n",
    "idx = 0\n",
    "\n",
    "for risk_aver in [0.0, 0.1, 1.0]:\n",
    "    for radi in [0.05, 0.1, 0.2]:\n",
    "        SCOT_df.loc[idx, 'RiskAversion'] = risk_aver\n",
    "        SCOT_df.loc[idx, 'Radius'] = radi\n",
    "        ExcessReturn = SCOT_Results[idx, :] - out_rates/12*0.01 - 1\n",
    "        SCOT_df.loc[idx, 'ExcessReturn_Mean'] = ExcessReturn.mean()\n",
    "        SCOT_df.loc[idx, 'ExcessReturn_STD'] = ExcessReturn.std()\n",
    "        SCOT_df.loc[idx, 'ExcessReturn_Sharpe'] = ExcessReturn.mean()/ExcessReturn.std()*np.sqrt(12)\n",
    "        \n",
    "        idx += 1"
   ]
  },
  {
   "cell_type": "code",
   "execution_count": 12,
   "id": "edbf8520",
   "metadata": {},
   "outputs": [
    {
     "data": {
      "text/html": [
       "<div>\n",
       "<style scoped>\n",
       "    .dataframe tbody tr th:only-of-type {\n",
       "        vertical-align: middle;\n",
       "    }\n",
       "\n",
       "    .dataframe tbody tr th {\n",
       "        vertical-align: top;\n",
       "    }\n",
       "\n",
       "    .dataframe thead th {\n",
       "        text-align: right;\n",
       "    }\n",
       "</style>\n",
       "<table border=\"1\" class=\"dataframe\">\n",
       "  <thead>\n",
       "    <tr style=\"text-align: right;\">\n",
       "      <th></th>\n",
       "      <th>RiskAversion</th>\n",
       "      <th>Radius</th>\n",
       "      <th>ExcessReturn_Mean</th>\n",
       "      <th>ExcessReturn_STD</th>\n",
       "      <th>ExcessReturn_Sharpe</th>\n",
       "    </tr>\n",
       "  </thead>\n",
       "  <tbody>\n",
       "    <tr>\n",
       "      <th>0</th>\n",
       "      <td>0.0</td>\n",
       "      <td>0.05</td>\n",
       "      <td>0.0208</td>\n",
       "      <td>0.0561</td>\n",
       "      <td>1.2829</td>\n",
       "    </tr>\n",
       "    <tr>\n",
       "      <th>1</th>\n",
       "      <td>0.0</td>\n",
       "      <td>0.10</td>\n",
       "      <td>0.0214</td>\n",
       "      <td>0.0559</td>\n",
       "      <td>1.3269</td>\n",
       "    </tr>\n",
       "    <tr>\n",
       "      <th>2</th>\n",
       "      <td>0.0</td>\n",
       "      <td>0.20</td>\n",
       "      <td>0.0192</td>\n",
       "      <td>0.0566</td>\n",
       "      <td>1.1750</td>\n",
       "    </tr>\n",
       "    <tr>\n",
       "      <th>3</th>\n",
       "      <td>0.1</td>\n",
       "      <td>0.05</td>\n",
       "      <td>0.0351</td>\n",
       "      <td>0.0484</td>\n",
       "      <td>2.5165</td>\n",
       "    </tr>\n",
       "    <tr>\n",
       "      <th>4</th>\n",
       "      <td>0.1</td>\n",
       "      <td>0.10</td>\n",
       "      <td>0.0295</td>\n",
       "      <td>0.0492</td>\n",
       "      <td>2.0754</td>\n",
       "    </tr>\n",
       "    <tr>\n",
       "      <th>5</th>\n",
       "      <td>0.1</td>\n",
       "      <td>0.20</td>\n",
       "      <td>0.0104</td>\n",
       "      <td>0.0560</td>\n",
       "      <td>0.6449</td>\n",
       "    </tr>\n",
       "    <tr>\n",
       "      <th>6</th>\n",
       "      <td>1.0</td>\n",
       "      <td>0.05</td>\n",
       "      <td>0.0263</td>\n",
       "      <td>0.0499</td>\n",
       "      <td>1.8234</td>\n",
       "    </tr>\n",
       "    <tr>\n",
       "      <th>7</th>\n",
       "      <td>1.0</td>\n",
       "      <td>0.10</td>\n",
       "      <td>0.0177</td>\n",
       "      <td>0.0531</td>\n",
       "      <td>1.1564</td>\n",
       "    </tr>\n",
       "    <tr>\n",
       "      <th>8</th>\n",
       "      <td>1.0</td>\n",
       "      <td>0.20</td>\n",
       "      <td>0.0160</td>\n",
       "      <td>0.0573</td>\n",
       "      <td>0.9652</td>\n",
       "    </tr>\n",
       "  </tbody>\n",
       "</table>\n",
       "</div>"
      ],
      "text/plain": [
       "   RiskAversion  Radius  ExcessReturn_Mean  ExcessReturn_STD  \\\n",
       "0           0.0    0.05             0.0208            0.0561   \n",
       "1           0.0    0.10             0.0214            0.0559   \n",
       "2           0.0    0.20             0.0192            0.0566   \n",
       "3           0.1    0.05             0.0351            0.0484   \n",
       "4           0.1    0.10             0.0295            0.0492   \n",
       "5           0.1    0.20             0.0104            0.0560   \n",
       "6           1.0    0.05             0.0263            0.0499   \n",
       "7           1.0    0.10             0.0177            0.0531   \n",
       "8           1.0    0.20             0.0160            0.0573   \n",
       "\n",
       "   ExcessReturn_Sharpe  \n",
       "0               1.2829  \n",
       "1               1.3269  \n",
       "2               1.1750  \n",
       "3               2.5165  \n",
       "4               2.0754  \n",
       "5               0.6449  \n",
       "6               1.8234  \n",
       "7               1.1564  \n",
       "8               0.9652  "
      ]
     },
     "execution_count": 12,
     "metadata": {},
     "output_type": "execute_result"
    }
   ],
   "source": [
    "SCOT_df"
   ]
  },
  {
   "cell_type": "code",
   "execution_count": 12,
   "id": "c2803817",
   "metadata": {},
   "outputs": [],
   "source": [
    "SCOT_df.to_csv('SCOT_df.csv', header=True, index=False)"
   ]
  },
  {
   "cell_type": "markdown",
   "id": "a84df378",
   "metadata": {},
   "source": [
    "## Non-robust method"
   ]
  },
  {
   "cell_type": "code",
   "execution_count": 13,
   "id": "981a3c03",
   "metadata": {},
   "outputs": [
    {
     "name": "stdout",
     "output_type": "stream",
     "text": [
      "Risk aversion 0.0 16.47121294713709\n",
      "1.0209980991982672 0.061986819214533306\n",
      "Risk aversion 0.1 16.89390594292983\n",
      "1.0253407014950717 0.06069293299955781\n",
      "Risk aversion 1.0 17.684888723819785\n",
      "1.0235186634700792 0.05787532392508082\n"
     ]
    }
   ],
   "source": [
    "Non_Results = np.zeros((3, 20))\n",
    "idx = 0\n",
    "for risk_aver in [0.0, 0.1, 1.0]:\n",
    "    logdir = './logs/mv_Nonrobust_risk_{}/DRORtn.pickle'.format(risk_aver)\n",
    "    with open(logdir, 'rb') as fp:\n",
    "        Non_Rtn = pickle.load(fp)\n",
    "    Non_Results[idx, :] = Non_Rtn\n",
    "    idx += 1\n",
    "    print('Risk aversion', risk_aver, Non_Rtn.mean()/Non_Rtn.std())\n",
    "    print(Non_Rtn.mean(), Non_Rtn.std())"
   ]
  },
  {
   "cell_type": "code",
   "execution_count": 14,
   "id": "8ad7f7fb",
   "metadata": {},
   "outputs": [],
   "source": [
    "Non_df = pd.DataFrame()\n",
    "idx = 0\n",
    "\n",
    "for risk_aver in [0.0, 0.1, 1.0]:\n",
    "    Non_df.loc[idx, 'RiskAversion'] = risk_aver\n",
    "    ExcessReturn = Non_Results[idx, :] - out_rates/12*0.01 - 1\n",
    "    Non_df.loc[idx, 'ExcessReturn_Mean'] = ExcessReturn.mean()\n",
    "    Non_df.loc[idx, 'ExcessReturn_STD'] = ExcessReturn.std()\n",
    "    Non_df.loc[idx, 'ExcessReturn_Sharpe'] = ExcessReturn.mean()/ExcessReturn.std()*np.sqrt(12)\n",
    "        \n",
    "    idx += 1"
   ]
  },
  {
   "cell_type": "code",
   "execution_count": 15,
   "id": "cdf5e349",
   "metadata": {},
   "outputs": [
    {
     "data": {
      "text/html": [
       "<div>\n",
       "<style scoped>\n",
       "    .dataframe tbody tr th:only-of-type {\n",
       "        vertical-align: middle;\n",
       "    }\n",
       "\n",
       "    .dataframe tbody tr th {\n",
       "        vertical-align: top;\n",
       "    }\n",
       "\n",
       "    .dataframe thead th {\n",
       "        text-align: right;\n",
       "    }\n",
       "</style>\n",
       "<table border=\"1\" class=\"dataframe\">\n",
       "  <thead>\n",
       "    <tr style=\"text-align: right;\">\n",
       "      <th></th>\n",
       "      <th>RiskAversion</th>\n",
       "      <th>ExcessReturn_Mean</th>\n",
       "      <th>ExcessReturn_STD</th>\n",
       "      <th>ExcessReturn_Sharpe</th>\n",
       "    </tr>\n",
       "  </thead>\n",
       "  <tbody>\n",
       "    <tr>\n",
       "      <th>0</th>\n",
       "      <td>0.0</td>\n",
       "      <td>0.0199</td>\n",
       "      <td>0.0624</td>\n",
       "      <td>1.1033</td>\n",
       "    </tr>\n",
       "    <tr>\n",
       "      <th>1</th>\n",
       "      <td>0.1</td>\n",
       "      <td>0.0242</td>\n",
       "      <td>0.0610</td>\n",
       "      <td>1.3752</td>\n",
       "    </tr>\n",
       "    <tr>\n",
       "      <th>2</th>\n",
       "      <td>1.0</td>\n",
       "      <td>0.0224</td>\n",
       "      <td>0.0582</td>\n",
       "      <td>1.3342</td>\n",
       "    </tr>\n",
       "  </tbody>\n",
       "</table>\n",
       "</div>"
      ],
      "text/plain": [
       "   RiskAversion  ExcessReturn_Mean  ExcessReturn_STD  ExcessReturn_Sharpe\n",
       "0           0.0             0.0199            0.0624               1.1033\n",
       "1           0.1             0.0242            0.0610               1.3752\n",
       "2           1.0             0.0224            0.0582               1.3342"
      ]
     },
     "execution_count": 15,
     "metadata": {},
     "output_type": "execute_result"
    }
   ],
   "source": [
    "Non_df"
   ]
  },
  {
   "cell_type": "code",
   "execution_count": 16,
   "id": "7c203903",
   "metadata": {},
   "outputs": [],
   "source": [
    "Non_df.to_csv('Non_df.csv', header=True, index=False)"
   ]
  },
  {
   "cell_type": "markdown",
   "id": "c82bbb43",
   "metadata": {},
   "source": [
    "## Naive method (As a sanity check, it should be the same while risk aversion/radius is different)"
   ]
  },
  {
   "cell_type": "code",
   "execution_count": 16,
   "id": "a2a868b7",
   "metadata": {},
   "outputs": [
    {
     "name": "stdout",
     "output_type": "stream",
     "text": [
      "Risk aversion 0.0 19.568668673641902\n",
      "1.0110756796712426 0.05166808721295972\n",
      "Risk aversion 0.1 19.568668673641902\n",
      "1.0110756796712426 0.05166808721295972\n",
      "Risk aversion 1.0 19.568668673641902\n",
      "1.0110756796712426 0.05166808721295972\n"
     ]
    }
   ],
   "source": [
    "Naive_Results = np.zeros((3, 20))\n",
    "idx = 0\n",
    "for risk_aver in [0.0, 0.1, 1.0]:\n",
    "    logdir = './logs/mv_Nonrobust_risk_{}/NaiveRtn.pickle'.format(risk_aver)\n",
    "    with open(logdir, 'rb') as fp:\n",
    "        Naive_Rtn = pickle.load(fp)\n",
    "    Naive_Results[idx, :] = Naive_Rtn\n",
    "    idx += 1\n",
    "    print('Risk aversion', risk_aver, Naive_Rtn.mean()/Naive_Rtn.std())\n",
    "    print(Naive_Rtn.mean(), Naive_Rtn.std())"
   ]
  },
  {
   "cell_type": "code",
   "execution_count": 17,
   "id": "aabdf6bc",
   "metadata": {},
   "outputs": [
    {
     "name": "stdout",
     "output_type": "stream",
     "text": [
      "Radius 0.05 Risk aversion 0.0 19.568668673641902\n",
      "1.0110756796712426 0.05166808721295972\n",
      "Radius 0.1 Risk aversion 0.0 19.568668673641902\n",
      "1.0110756796712426 0.05166808721295972\n",
      "Radius 0.2 Risk aversion 0.0 19.568668673641902\n",
      "1.0110756796712426 0.05166808721295972\n",
      "Radius 0.05 Risk aversion 0.1 19.568668673641902\n",
      "1.0110756796712426 0.05166808721295972\n",
      "Radius 0.1 Risk aversion 0.1 19.568668673641902\n",
      "1.0110756796712426 0.05166808721295972\n",
      "Radius 0.2 Risk aversion 0.1 19.568668673641902\n",
      "1.0110756796712426 0.05166808721295972\n",
      "Radius 0.05 Risk aversion 1.0 19.568668673641902\n",
      "1.0110756796712426 0.05166808721295972\n",
      "Radius 0.1 Risk aversion 1.0 19.568668673641902\n",
      "1.0110756796712426 0.05166808721295972\n",
      "Radius 0.2 Risk aversion 1.0 19.568668673641902\n",
      "1.0110756796712426 0.05166808721295972\n"
     ]
    }
   ],
   "source": [
    "Naive_Results = np.zeros((9, 20))\n",
    "idx = 0\n",
    "for risk_aver in [0.0, 0.1, 1.0]:\n",
    "    for radi in [0.05, 0.1, 0.2]:\n",
    "        logdir = './logs/mv_SCOT_radi_{}_risk_{}/NaiveRtn.pickle'.format(radi, risk_aver)\n",
    "        with open(logdir, 'rb') as fp:\n",
    "            Naive_Rtn = pickle.load(fp)\n",
    "        Naive_Results[idx, :] = Naive_Rtn\n",
    "        idx += 1\n",
    "        print('Radius', radi, 'Risk aversion', risk_aver, Naive_Rtn.mean()/Naive_Rtn.std())\n",
    "        print(Naive_Rtn.mean(), Naive_Rtn.std())"
   ]
  },
  {
   "cell_type": "code",
   "execution_count": 18,
   "id": "009a9179",
   "metadata": {},
   "outputs": [],
   "source": [
    "Naive_df = pd.DataFrame()\n",
    "idx = 0\n",
    "\n",
    "for risk_aver in [0.0, 0.1, 1.0]:\n",
    "    Naive_df.loc[idx, 'RiskAversion'] = risk_aver\n",
    "    ExcessReturn = Naive_Results[idx, :] - out_rates/12*0.01 - 1\n",
    "    Naive_df.loc[idx, 'ExcessReturn_Mean'] = ExcessReturn.mean()\n",
    "    Naive_df.loc[idx, 'ExcessReturn_STD'] = ExcessReturn.std()\n",
    "    Naive_df.loc[idx, 'ExcessReturn_Sharpe'] = ExcessReturn.mean()/ExcessReturn.std()*np.sqrt(12)\n",
    "        \n",
    "    idx += 1"
   ]
  },
  {
   "cell_type": "code",
   "execution_count": 19,
   "id": "aa7ea15b",
   "metadata": {},
   "outputs": [
    {
     "data": {
      "text/html": [
       "<div>\n",
       "<style scoped>\n",
       "    .dataframe tbody tr th:only-of-type {\n",
       "        vertical-align: middle;\n",
       "    }\n",
       "\n",
       "    .dataframe tbody tr th {\n",
       "        vertical-align: top;\n",
       "    }\n",
       "\n",
       "    .dataframe thead th {\n",
       "        text-align: right;\n",
       "    }\n",
       "</style>\n",
       "<table border=\"1\" class=\"dataframe\">\n",
       "  <thead>\n",
       "    <tr style=\"text-align: right;\">\n",
       "      <th></th>\n",
       "      <th>RiskAversion</th>\n",
       "      <th>ExcessReturn_Mean</th>\n",
       "      <th>ExcessReturn_STD</th>\n",
       "      <th>ExcessReturn_Sharpe</th>\n",
       "    </tr>\n",
       "  </thead>\n",
       "  <tbody>\n",
       "    <tr>\n",
       "      <th>0</th>\n",
       "      <td>0.0</td>\n",
       "      <td>0.01</td>\n",
       "      <td>0.052</td>\n",
       "      <td>0.6633</td>\n",
       "    </tr>\n",
       "    <tr>\n",
       "      <th>1</th>\n",
       "      <td>0.1</td>\n",
       "      <td>0.01</td>\n",
       "      <td>0.052</td>\n",
       "      <td>0.6633</td>\n",
       "    </tr>\n",
       "    <tr>\n",
       "      <th>2</th>\n",
       "      <td>1.0</td>\n",
       "      <td>0.01</td>\n",
       "      <td>0.052</td>\n",
       "      <td>0.6633</td>\n",
       "    </tr>\n",
       "  </tbody>\n",
       "</table>\n",
       "</div>"
      ],
      "text/plain": [
       "   RiskAversion  ExcessReturn_Mean  ExcessReturn_STD  ExcessReturn_Sharpe\n",
       "0           0.0               0.01             0.052               0.6633\n",
       "1           0.1               0.01             0.052               0.6633\n",
       "2           1.0               0.01             0.052               0.6633"
      ]
     },
     "execution_count": 19,
     "metadata": {},
     "output_type": "execute_result"
    }
   ],
   "source": [
    "Naive_df"
   ]
  },
  {
   "cell_type": "code",
   "execution_count": 21,
   "id": "6699cef6",
   "metadata": {},
   "outputs": [],
   "source": [
    "Naive_df.to_csv('Naive_df.csv', header=True, index=False)"
   ]
  },
  {
   "cell_type": "markdown",
   "id": "1bc9180e",
   "metadata": {},
   "source": [
    "## OT Method"
   ]
  },
  {
   "cell_type": "code",
   "execution_count": 20,
   "id": "1ddc40bb",
   "metadata": {},
   "outputs": [
    {
     "name": "stdout",
     "output_type": "stream",
     "text": [
      "Radius 0.05 Risk aversion 0.0 19.444214813468562\n",
      "1.011318461272276 0.052011277954600615\n",
      "Radius 0.1 Risk aversion 0.0 18.87868219814078\n",
      "1.0127894715060966 0.05364725465879385\n",
      "Radius 0.2 Risk aversion 0.0 19.654746371978852\n",
      "1.0188076094439746 0.051835194927595515\n",
      "Radius 0.05 Risk aversion 0.1 19.928738899124102\n",
      "1.0132159139999874 0.05084194836054176\n",
      "Radius 0.1 Risk aversion 0.1 19.1814569160587\n",
      "1.0130609592839426 0.052814599209917615\n",
      "Radius 0.2 Risk aversion 0.1 20.834881023566513\n",
      "1.0216407256868827 0.049035112057097714\n",
      "Radius 0.05 Risk aversion 1.0 19.650365471254855\n",
      "1.01105694010774 0.051452322430681735\n",
      "Radius 0.1 Risk aversion 1.0 19.449945527717826\n",
      "1.011221589782684 0.05199097284573919\n",
      "Radius 0.2 Risk aversion 1.0 19.55179067472692\n",
      "1.0127259463491458 0.05179709435301074\n"
     ]
    }
   ],
   "source": [
    "OT_Results = np.zeros((9, 20))\n",
    "idx = 0\n",
    "for risk_aver in [0.0, 0.1, 1.0]:\n",
    "    for radi in [0.05, 0.1, 0.2]:\n",
    "        logdir = './logs/mv_OT_radi_{}_risk_{}/DRORtn.pickle'.format(radi, risk_aver)\n",
    "        with open(logdir, 'rb') as fp:\n",
    "            OT_Rtn = pickle.load(fp)\n",
    "        OT_Results[idx, :] = OT_Rtn\n",
    "        idx += 1\n",
    "        print('Radius', radi, 'Risk aversion', risk_aver, OT_Rtn.mean()/OT_Rtn.std())\n",
    "        print(OT_Rtn.mean(), OT_Rtn.std())"
   ]
  },
  {
   "cell_type": "code",
   "execution_count": 21,
   "id": "5af016f0",
   "metadata": {},
   "outputs": [],
   "source": [
    "OT_df = pd.DataFrame()\n",
    "idx = 0\n",
    "\n",
    "for risk_aver in [0.0, 0.1, 1.0]:\n",
    "    for radi in [0.05, 0.1, 0.2]:\n",
    "        OT_df.loc[idx, 'RiskAversion'] = risk_aver\n",
    "        OT_df.loc[idx, 'Radius'] = radi\n",
    "        ExcessReturn = OT_Results[idx, :] - out_rates/12*0.01 - 1\n",
    "        OT_df.loc[idx, 'ExcessReturn_Mean'] = ExcessReturn.mean()\n",
    "        OT_df.loc[idx, 'ExcessReturn_STD'] = ExcessReturn.std()\n",
    "        OT_df.loc[idx, 'ExcessReturn_Sharpe'] = ExcessReturn.mean()/ExcessReturn.std()*np.sqrt(12)\n",
    "        \n",
    "        idx += 1"
   ]
  },
  {
   "cell_type": "code",
   "execution_count": 22,
   "id": "1fbf0293",
   "metadata": {},
   "outputs": [
    {
     "data": {
      "text/html": [
       "<div>\n",
       "<style scoped>\n",
       "    .dataframe tbody tr th:only-of-type {\n",
       "        vertical-align: middle;\n",
       "    }\n",
       "\n",
       "    .dataframe tbody tr th {\n",
       "        vertical-align: top;\n",
       "    }\n",
       "\n",
       "    .dataframe thead th {\n",
       "        text-align: right;\n",
       "    }\n",
       "</style>\n",
       "<table border=\"1\" class=\"dataframe\">\n",
       "  <thead>\n",
       "    <tr style=\"text-align: right;\">\n",
       "      <th></th>\n",
       "      <th>RiskAversion</th>\n",
       "      <th>Radius</th>\n",
       "      <th>ExcessReturn_Mean</th>\n",
       "      <th>ExcessReturn_STD</th>\n",
       "      <th>ExcessReturn_Sharpe</th>\n",
       "    </tr>\n",
       "  </thead>\n",
       "  <tbody>\n",
       "    <tr>\n",
       "      <th>0</th>\n",
       "      <td>0.0</td>\n",
       "      <td>0.05</td>\n",
       "      <td>0.0102</td>\n",
       "      <td>0.0523</td>\n",
       "      <td>0.6751</td>\n",
       "    </tr>\n",
       "    <tr>\n",
       "      <th>1</th>\n",
       "      <td>0.0</td>\n",
       "      <td>0.10</td>\n",
       "      <td>0.0117</td>\n",
       "      <td>0.0540</td>\n",
       "      <td>0.7486</td>\n",
       "    </tr>\n",
       "    <tr>\n",
       "      <th>2</th>\n",
       "      <td>0.0</td>\n",
       "      <td>0.20</td>\n",
       "      <td>0.0177</td>\n",
       "      <td>0.0523</td>\n",
       "      <td>1.1725</td>\n",
       "    </tr>\n",
       "    <tr>\n",
       "      <th>3</th>\n",
       "      <td>0.1</td>\n",
       "      <td>0.05</td>\n",
       "      <td>0.0121</td>\n",
       "      <td>0.0512</td>\n",
       "      <td>0.8189</td>\n",
       "    </tr>\n",
       "    <tr>\n",
       "      <th>4</th>\n",
       "      <td>0.1</td>\n",
       "      <td>0.10</td>\n",
       "      <td>0.0119</td>\n",
       "      <td>0.0532</td>\n",
       "      <td>0.7778</td>\n",
       "    </tr>\n",
       "    <tr>\n",
       "      <th>5</th>\n",
       "      <td>0.1</td>\n",
       "      <td>0.20</td>\n",
       "      <td>0.0205</td>\n",
       "      <td>0.0495</td>\n",
       "      <td>1.4362</td>\n",
       "    </tr>\n",
       "    <tr>\n",
       "      <th>6</th>\n",
       "      <td>1.0</td>\n",
       "      <td>0.05</td>\n",
       "      <td>0.0099</td>\n",
       "      <td>0.0518</td>\n",
       "      <td>0.6650</td>\n",
       "    </tr>\n",
       "    <tr>\n",
       "      <th>7</th>\n",
       "      <td>1.0</td>\n",
       "      <td>0.10</td>\n",
       "      <td>0.0101</td>\n",
       "      <td>0.0523</td>\n",
       "      <td>0.6688</td>\n",
       "    </tr>\n",
       "    <tr>\n",
       "      <th>8</th>\n",
       "      <td>1.0</td>\n",
       "      <td>0.20</td>\n",
       "      <td>0.0116</td>\n",
       "      <td>0.0522</td>\n",
       "      <td>0.7708</td>\n",
       "    </tr>\n",
       "  </tbody>\n",
       "</table>\n",
       "</div>"
      ],
      "text/plain": [
       "   RiskAversion  Radius  ExcessReturn_Mean  ExcessReturn_STD  \\\n",
       "0           0.0    0.05             0.0102            0.0523   \n",
       "1           0.0    0.10             0.0117            0.0540   \n",
       "2           0.0    0.20             0.0177            0.0523   \n",
       "3           0.1    0.05             0.0121            0.0512   \n",
       "4           0.1    0.10             0.0119            0.0532   \n",
       "5           0.1    0.20             0.0205            0.0495   \n",
       "6           1.0    0.05             0.0099            0.0518   \n",
       "7           1.0    0.10             0.0101            0.0523   \n",
       "8           1.0    0.20             0.0116            0.0522   \n",
       "\n",
       "   ExcessReturn_Sharpe  \n",
       "0               0.6751  \n",
       "1               0.7486  \n",
       "2               1.1725  \n",
       "3               0.8189  \n",
       "4               0.7778  \n",
       "5               1.4362  \n",
       "6               0.6650  \n",
       "7               0.6688  \n",
       "8               0.7708  "
      ]
     },
     "execution_count": 22,
     "metadata": {},
     "output_type": "execute_result"
    }
   ],
   "source": [
    "OT_df"
   ]
  },
  {
   "cell_type": "code",
   "execution_count": 25,
   "id": "a4f18d92",
   "metadata": {},
   "outputs": [],
   "source": [
    "OT_df.to_csv('OT_df.csv', header=True, index=False)"
   ]
  },
  {
   "cell_type": "code",
   "execution_count": null,
   "id": "ea869b1e",
   "metadata": {},
   "outputs": [],
   "source": []
  },
  {
   "cell_type": "code",
   "execution_count": null,
   "id": "f29adc68",
   "metadata": {},
   "outputs": [],
   "source": []
  },
  {
   "cell_type": "code",
   "execution_count": null,
   "id": "45988c6e",
   "metadata": {},
   "outputs": [],
   "source": []
  },
  {
   "cell_type": "code",
   "execution_count": null,
   "id": "60f90ec4",
   "metadata": {},
   "outputs": [],
   "source": []
  },
  {
   "cell_type": "code",
   "execution_count": null,
   "id": "5f7adbf9",
   "metadata": {},
   "outputs": [],
   "source": [
    "import torch"
   ]
  },
  {
   "cell_type": "code",
   "execution_count": null,
   "id": "e577ffdd",
   "metadata": {},
   "outputs": [],
   "source": [
    "x=torch.ones(2, requires_grad=True)\n",
    "y=1.2*x\n",
    "z=3+x.detach()\n",
    "r=(y+z).sum()\n",
    "\n",
    "r.backward()\n",
    "x.grad"
   ]
  },
  {
   "cell_type": "code",
   "execution_count": null,
   "id": "70ea4fc5",
   "metadata": {},
   "outputs": [],
   "source": [
    "z.grad"
   ]
  },
  {
   "cell_type": "code",
   "execution_count": null,
   "id": "a8f37785",
   "metadata": {},
   "outputs": [],
   "source": []
  }
 ],
 "metadata": {
  "kernelspec": {
   "display_name": "Python 3 (ipykernel)",
   "language": "python",
   "name": "python3"
  },
  "language_info": {
   "codemirror_mode": {
    "name": "ipython",
    "version": 3
   },
   "file_extension": ".py",
   "mimetype": "text/x-python",
   "name": "python",
   "nbconvert_exporter": "python",
   "pygments_lexer": "ipython3",
   "version": "3.9.16"
  }
 },
 "nbformat": 4,
 "nbformat_minor": 5
}
