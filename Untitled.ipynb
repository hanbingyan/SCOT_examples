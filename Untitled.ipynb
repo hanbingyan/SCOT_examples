{
 "cells": [
  {
   "cell_type": "code",
   "execution_count": 1,
   "id": "0f3f2c58",
   "metadata": {},
   "outputs": [],
   "source": [
    "import numpy as np\n",
    "import pandas as pd\n",
    "import matplotlib.pyplot as plt"
   ]
  },
  {
   "cell_type": "code",
   "execution_count": 3,
   "id": "d97e1090",
   "metadata": {},
   "outputs": [],
   "source": [
    "import pickle"
   ]
  },
  {
   "cell_type": "code",
   "execution_count": 6,
   "id": "0443ce98",
   "metadata": {},
   "outputs": [],
   "source": [
    "with open('./logs/mv_causal_False_10.38/DRORtn.pickle', 'rb') as fp:\n",
    "    DRORtn = pickle.load(fp)"
   ]
  },
  {
   "cell_type": "code",
   "execution_count": 14,
   "id": "27da0b5a",
   "metadata": {},
   "outputs": [
    {
     "data": {
      "text/plain": [
       "22.12914481694734"
      ]
     },
     "execution_count": 14,
     "metadata": {},
     "output_type": "execute_result"
    }
   ],
   "source": [
    "DRORtn.mean()/DRORtn.std()"
   ]
  },
  {
   "cell_type": "code",
   "execution_count": 10,
   "id": "c763114d",
   "metadata": {},
   "outputs": [],
   "source": [
    "with open('./logs/mv_causal_True_12.10/DRORtn.pickle', 'rb') as fp:\n",
    "    SCOT_Rtn = pickle.load(fp)"
   ]
  },
  {
   "cell_type": "code",
   "execution_count": 13,
   "id": "327cf636",
   "metadata": {},
   "outputs": [
    {
     "data": {
      "text/plain": [
       "21.556994740293852"
      ]
     },
     "execution_count": 13,
     "metadata": {},
     "output_type": "execute_result"
    }
   ],
   "source": [
    "SCOT_Rtn.mean()/SCOT_Rtn.std()"
   ]
  },
  {
   "cell_type": "code",
   "execution_count": 56,
   "id": "d12acbaf",
   "metadata": {},
   "outputs": [
    {
     "data": {
      "text/plain": [
       "21.556994740293852"
      ]
     },
     "execution_count": 56,
     "metadata": {},
     "output_type": "execute_result"
    }
   ],
   "source": [
    "SCOT_Rtn.mean()/SCOT_Rtn.std()"
   ]
  },
  {
   "cell_type": "code",
   "execution_count": 16,
   "id": "1e0f8fb1",
   "metadata": {},
   "outputs": [],
   "source": [
    "with open('./logs/mv_causal_True_risk_1.0_12.54/DRORtn.pickle', 'rb') as fp:\n",
    "    SCOT_1_Rtn = pickle.load(fp)"
   ]
  },
  {
   "cell_type": "code",
   "execution_count": 21,
   "id": "5be65ed0",
   "metadata": {},
   "outputs": [
    {
     "data": {
      "text/plain": [
       "(1.0281647777456264, 0.04982534569090823)"
      ]
     },
     "execution_count": 21,
     "metadata": {},
     "output_type": "execute_result"
    }
   ],
   "source": [
    "SCOT_1_Rtn.mean(), SCOT_1_Rtn.std()"
   ]
  },
  {
   "cell_type": "code",
   "execution_count": 36,
   "id": "bf2e5e18",
   "metadata": {},
   "outputs": [
    {
     "data": {
      "text/plain": [
       "(1.0281647777456264, 0.04982534569090823)"
      ]
     },
     "execution_count": 36,
     "metadata": {},
     "output_type": "execute_result"
    }
   ],
   "source": [
    "SCOT_1_Rtn.mean(), SCOT_1_Rtn.std()"
   ]
  },
  {
   "cell_type": "code",
   "execution_count": 23,
   "id": "a7d2d156",
   "metadata": {},
   "outputs": [],
   "source": [
    "with open('./logs/mv_causal_True_risk_1.0_12.54/NaiveRtn.pickle', 'rb') as fp:\n",
    "    Naive_Rtn = pickle.load(fp)"
   ]
  },
  {
   "cell_type": "code",
   "execution_count": 34,
   "id": "8741c59b",
   "metadata": {},
   "outputs": [
    {
     "data": {
      "text/plain": [
       "(1.0110756796712426, 0.05166808721295972)"
      ]
     },
     "execution_count": 34,
     "metadata": {},
     "output_type": "execute_result"
    }
   ],
   "source": [
    "Naive_Rtn.mean(), Naive_Rtn.std()"
   ]
  },
  {
   "cell_type": "code",
   "execution_count": 40,
   "id": "a7f9ea9c",
   "metadata": {},
   "outputs": [
    {
     "data": {
      "text/plain": [
       "19.568668673641902"
      ]
     },
     "execution_count": 40,
     "metadata": {},
     "output_type": "execute_result"
    }
   ],
   "source": [
    "Naive_Rtn.mean()/Naive_Rtn.std()"
   ]
  },
  {
   "cell_type": "code",
   "execution_count": 26,
   "id": "960e8acc",
   "metadata": {},
   "outputs": [],
   "source": [
    "with open('./logs/mv_causal_True_risk_0.0_13.37/DRORtn.pickle', 'rb') as fp:\n",
    "    SCOT_0_Rtn = pickle.load(fp)"
   ]
  },
  {
   "cell_type": "code",
   "execution_count": 35,
   "id": "d6724a5a",
   "metadata": {},
   "outputs": [
    {
     "data": {
      "text/plain": [
       "(1.0218985243822711, 0.05573841537049321)"
      ]
     },
     "execution_count": 35,
     "metadata": {},
     "output_type": "execute_result"
    }
   ],
   "source": [
    "SCOT_0_Rtn.mean(), SCOT_0_Rtn.std()"
   ]
  },
  {
   "cell_type": "code",
   "execution_count": 37,
   "id": "fcdc0f6b",
   "metadata": {},
   "outputs": [],
   "source": [
    "with open('./logs/mv_causal_radi01_True_risk_0.1_14.44/DRORtn.pickle', 'rb') as fp:\n",
    "    SCOT_rad01_Rtn = pickle.load(fp)"
   ]
  },
  {
   "cell_type": "code",
   "execution_count": 41,
   "id": "c70deef6",
   "metadata": {},
   "outputs": [
    {
     "data": {
      "text/plain": [
       "(1.0307799074523465, 0.048951246849664135)"
      ]
     },
     "execution_count": 41,
     "metadata": {},
     "output_type": "execute_result"
    }
   ],
   "source": [
    "SCOT_rad01_Rtn.mean(), SCOT_rad01_Rtn.std()"
   ]
  },
  {
   "cell_type": "code",
   "execution_count": 39,
   "id": "dc43feca",
   "metadata": {},
   "outputs": [
    {
     "data": {
      "text/plain": [
       "21.057275836466644"
      ]
     },
     "execution_count": 39,
     "metadata": {},
     "output_type": "execute_result"
    }
   ],
   "source": [
    "SCOT_rad01_Rtn.mean()/SCOT_rad01_Rtn.std()"
   ]
  },
  {
   "cell_type": "code",
   "execution_count": 42,
   "id": "db514c33",
   "metadata": {},
   "outputs": [],
   "source": [
    "with open('./logs/mv_causal_radi02_True_risk_0.1_15.33/DRORtn.pickle', 'rb') as fp:\n",
    "    SCOT_rad02_Rtn = pickle.load(fp)"
   ]
  },
  {
   "cell_type": "code",
   "execution_count": 46,
   "id": "892c0770",
   "metadata": {},
   "outputs": [
    {
     "data": {
      "text/plain": [
       "(1.0137990612606598, 0.05319313723887245)"
      ]
     },
     "execution_count": 46,
     "metadata": {},
     "output_type": "execute_result"
    }
   ],
   "source": [
    "SCOT_rad02_Rtn.mean(), SCOT_rad02_Rtn.std()"
   ]
  },
  {
   "cell_type": "code",
   "execution_count": 50,
   "id": "9c88939d",
   "metadata": {},
   "outputs": [],
   "source": [
    "with open('./logs/mv_ot_rad_0.05_aver_0.1/DRORtn.pickle', 'rb') as fp:\n",
    "    OT_rad005_Rtn = pickle.load(fp)"
   ]
  },
  {
   "cell_type": "code",
   "execution_count": 54,
   "id": "8e698ace",
   "metadata": {},
   "outputs": [
    {
     "data": {
      "text/plain": [
       "20.281660260273878"
      ]
     },
     "execution_count": 54,
     "metadata": {},
     "output_type": "execute_result"
    }
   ],
   "source": [
    "OT_rad005_Rtn.mean()/OT_rad005_Rtn.std()"
   ]
  },
  {
   "cell_type": "code",
   "execution_count": 55,
   "id": "4e97a26f",
   "metadata": {},
   "outputs": [
    {
     "data": {
      "text/plain": [
       "19.568668673641902"
      ]
     },
     "execution_count": 55,
     "metadata": {},
     "output_type": "execute_result"
    }
   ],
   "source": [
    "Naive_Rtn.mean()/Naive_Rtn.std()"
   ]
  },
  {
   "cell_type": "code",
   "execution_count": 57,
   "id": "d262c7b9",
   "metadata": {},
   "outputs": [],
   "source": [
    "with open('./logs/mv_ot_rad_0.1_aver_0.1/DRORtn.pickle', 'rb') as fp:\n",
    "    OT_rad01_Rtn = pickle.load(fp)"
   ]
  },
  {
   "cell_type": "code",
   "execution_count": 65,
   "id": "f0b21042",
   "metadata": {
    "scrolled": true
   },
   "outputs": [
    {
     "data": {
      "text/plain": [
       "(1.0116173464476579, 0.0515053075499553)"
      ]
     },
     "execution_count": 65,
     "metadata": {},
     "output_type": "execute_result"
    }
   ],
   "source": [
    "OT_rad01_Rtn.mean(), OT_rad01_Rtn.std()"
   ]
  },
  {
   "cell_type": "code",
   "execution_count": 64,
   "id": "c59cce1d",
   "metadata": {},
   "outputs": [
    {
     "data": {
      "text/plain": [
       "(1.015392202487409, 0.05006455040942971)"
      ]
     },
     "execution_count": 64,
     "metadata": {},
     "output_type": "execute_result"
    }
   ],
   "source": [
    "OT_rad005_Rtn.mean(), OT_rad005_Rtn.std()"
   ]
  },
  {
   "cell_type": "code",
   "execution_count": 66,
   "id": "849c8777",
   "metadata": {},
   "outputs": [],
   "source": [
    "with open('./logs/mv_ot_rad_0.1_aver_1.0/DRORtn.pickle', 'rb') as fp:\n",
    "    OT_aver10_Rtn = pickle.load(fp)"
   ]
  },
  {
   "cell_type": "code",
   "execution_count": 69,
   "id": "ea866457",
   "metadata": {},
   "outputs": [
    {
     "data": {
      "text/plain": [
       "(1.0113906551144316, 0.05201167765177085)"
      ]
     },
     "execution_count": 69,
     "metadata": {},
     "output_type": "execute_result"
    }
   ],
   "source": [
    "OT_aver10_Rtn.mean(), OT_aver10_Rtn.std()"
   ]
  },
  {
   "cell_type": "code",
   "execution_count": null,
   "id": "f0051aa6",
   "metadata": {},
   "outputs": [],
   "source": []
  },
  {
   "cell_type": "code",
   "execution_count": null,
   "id": "658f5b9e",
   "metadata": {},
   "outputs": [],
   "source": []
  },
  {
   "cell_type": "code",
   "execution_count": 2,
   "id": "eade09aa",
   "metadata": {},
   "outputs": [],
   "source": [
    "MMM = pd.read_csv('MMM.csv')"
   ]
  },
  {
   "cell_type": "code",
   "execution_count": 3,
   "id": "0898010b",
   "metadata": {},
   "outputs": [
    {
     "data": {
      "text/html": [
       "<div>\n",
       "<style scoped>\n",
       "    .dataframe tbody tr th:only-of-type {\n",
       "        vertical-align: middle;\n",
       "    }\n",
       "\n",
       "    .dataframe tbody tr th {\n",
       "        vertical-align: top;\n",
       "    }\n",
       "\n",
       "    .dataframe thead th {\n",
       "        text-align: right;\n",
       "    }\n",
       "</style>\n",
       "<table border=\"1\" class=\"dataframe\">\n",
       "  <thead>\n",
       "    <tr style=\"text-align: right;\">\n",
       "      <th></th>\n",
       "      <th>Date</th>\n",
       "      <th>Open</th>\n",
       "      <th>High</th>\n",
       "      <th>Low</th>\n",
       "      <th>Close</th>\n",
       "      <th>Adj Close</th>\n",
       "      <th>Volume</th>\n",
       "    </tr>\n",
       "  </thead>\n",
       "  <tbody>\n",
       "    <tr>\n",
       "      <th>0</th>\n",
       "      <td>2019-07-15</td>\n",
       "      <td>144.657196</td>\n",
       "      <td>145.476593</td>\n",
       "      <td>143.988297</td>\n",
       "      <td>144.322739</td>\n",
       "      <td>117.084564</td>\n",
       "      <td>2822919</td>\n",
       "    </tr>\n",
       "    <tr>\n",
       "      <th>1</th>\n",
       "      <td>2019-07-22</td>\n",
       "      <td>144.489960</td>\n",
       "      <td>156.956528</td>\n",
       "      <td>142.617050</td>\n",
       "      <td>145.468231</td>\n",
       "      <td>118.013878</td>\n",
       "      <td>23053498</td>\n",
       "    </tr>\n",
       "    <tr>\n",
       "      <th>2</th>\n",
       "      <td>2019-07-29</td>\n",
       "      <td>145.342804</td>\n",
       "      <td>148.846161</td>\n",
       "      <td>141.981598</td>\n",
       "      <td>142.600327</td>\n",
       "      <td>115.687241</td>\n",
       "      <td>14875728</td>\n",
       "    </tr>\n",
       "    <tr>\n",
       "      <th>3</th>\n",
       "      <td>2019-08-05</td>\n",
       "      <td>141.262543</td>\n",
       "      <td>141.321075</td>\n",
       "      <td>132.140472</td>\n",
       "      <td>136.680603</td>\n",
       "      <td>110.884766</td>\n",
       "      <td>20600981</td>\n",
       "    </tr>\n",
       "    <tr>\n",
       "      <th>4</th>\n",
       "      <td>2019-08-12</td>\n",
       "      <td>136.304352</td>\n",
       "      <td>140.367889</td>\n",
       "      <td>130.125412</td>\n",
       "      <td>135.033447</td>\n",
       "      <td>109.548462</td>\n",
       "      <td>19983965</td>\n",
       "    </tr>\n",
       "  </tbody>\n",
       "</table>\n",
       "</div>"
      ],
      "text/plain": [
       "         Date        Open        High         Low       Close   Adj Close  \\\n",
       "0  2019-07-15  144.657196  145.476593  143.988297  144.322739  117.084564   \n",
       "1  2019-07-22  144.489960  156.956528  142.617050  145.468231  118.013878   \n",
       "2  2019-07-29  145.342804  148.846161  141.981598  142.600327  115.687241   \n",
       "3  2019-08-05  141.262543  141.321075  132.140472  136.680603  110.884766   \n",
       "4  2019-08-12  136.304352  140.367889  130.125412  135.033447  109.548462   \n",
       "\n",
       "     Volume  \n",
       "0   2822919  \n",
       "1  23053498  \n",
       "2  14875728  \n",
       "3  20600981  \n",
       "4  19983965  "
      ]
     },
     "execution_count": 3,
     "metadata": {},
     "output_type": "execute_result"
    }
   ],
   "source": [
    "MMM.head()"
   ]
  },
  {
   "cell_type": "code",
   "execution_count": 4,
   "id": "ab4adeea",
   "metadata": {},
   "outputs": [
    {
     "data": {
      "text/html": [
       "<div>\n",
       "<style scoped>\n",
       "    .dataframe tbody tr th:only-of-type {\n",
       "        vertical-align: middle;\n",
       "    }\n",
       "\n",
       "    .dataframe tbody tr th {\n",
       "        vertical-align: top;\n",
       "    }\n",
       "\n",
       "    .dataframe thead th {\n",
       "        text-align: right;\n",
       "    }\n",
       "</style>\n",
       "<table border=\"1\" class=\"dataframe\">\n",
       "  <thead>\n",
       "    <tr style=\"text-align: right;\">\n",
       "      <th></th>\n",
       "      <th>Date</th>\n",
       "      <th>Open</th>\n",
       "      <th>High</th>\n",
       "      <th>Low</th>\n",
       "      <th>Close</th>\n",
       "      <th>Adj Close</th>\n",
       "      <th>Volume</th>\n",
       "    </tr>\n",
       "  </thead>\n",
       "  <tbody>\n",
       "    <tr>\n",
       "      <th>258</th>\n",
       "      <td>2024-06-24</td>\n",
       "      <td>102.180000</td>\n",
       "      <td>104.040001</td>\n",
       "      <td>100.570000</td>\n",
       "      <td>102.190002</td>\n",
       "      <td>102.190002</td>\n",
       "      <td>21003100</td>\n",
       "    </tr>\n",
       "    <tr>\n",
       "      <th>259</th>\n",
       "      <td>2024-07-01</td>\n",
       "      <td>102.860001</td>\n",
       "      <td>103.449997</td>\n",
       "      <td>100.209999</td>\n",
       "      <td>101.320000</td>\n",
       "      <td>101.320000</td>\n",
       "      <td>9287300</td>\n",
       "    </tr>\n",
       "    <tr>\n",
       "      <th>260</th>\n",
       "      <td>2024-07-08</td>\n",
       "      <td>101.510002</td>\n",
       "      <td>105.300003</td>\n",
       "      <td>98.260002</td>\n",
       "      <td>104.040001</td>\n",
       "      <td>104.040001</td>\n",
       "      <td>17629600</td>\n",
       "    </tr>\n",
       "    <tr>\n",
       "      <th>261</th>\n",
       "      <td>2024-07-15</td>\n",
       "      <td>104.900002</td>\n",
       "      <td>105.519997</td>\n",
       "      <td>100.870003</td>\n",
       "      <td>103.919998</td>\n",
       "      <td>103.919998</td>\n",
       "      <td>16400900</td>\n",
       "    </tr>\n",
       "    <tr>\n",
       "      <th>262</th>\n",
       "      <td>2024-07-19</td>\n",
       "      <td>104.750000</td>\n",
       "      <td>104.709999</td>\n",
       "      <td>103.150002</td>\n",
       "      <td>103.919998</td>\n",
       "      <td>103.919998</td>\n",
       "      <td>2883594</td>\n",
       "    </tr>\n",
       "  </tbody>\n",
       "</table>\n",
       "</div>"
      ],
      "text/plain": [
       "           Date        Open        High         Low       Close   Adj Close  \\\n",
       "258  2024-06-24  102.180000  104.040001  100.570000  102.190002  102.190002   \n",
       "259  2024-07-01  102.860001  103.449997  100.209999  101.320000  101.320000   \n",
       "260  2024-07-08  101.510002  105.300003   98.260002  104.040001  104.040001   \n",
       "261  2024-07-15  104.900002  105.519997  100.870003  103.919998  103.919998   \n",
       "262  2024-07-19  104.750000  104.709999  103.150002  103.919998  103.919998   \n",
       "\n",
       "       Volume  \n",
       "258  21003100  \n",
       "259   9287300  \n",
       "260  17629600  \n",
       "261  16400900  \n",
       "262   2883594  "
      ]
     },
     "execution_count": 4,
     "metadata": {},
     "output_type": "execute_result"
    }
   ],
   "source": [
    "MMM.tail()"
   ]
  },
  {
   "cell_type": "code",
   "execution_count": 5,
   "id": "a6e1bafc",
   "metadata": {},
   "outputs": [],
   "source": [
    "AdjClose = MMM['Adj Close'].values"
   ]
  },
  {
   "cell_type": "code",
   "execution_count": 6,
   "id": "4e31ee74",
   "metadata": {},
   "outputs": [],
   "source": [
    "MMMRtn = np.divide(AdjClose[1:] - AdjClose[:-1], AdjClose[:-1])"
   ]
  },
  {
   "cell_type": "code",
   "execution_count": 7,
   "id": "fbdd5bfd",
   "metadata": {},
   "outputs": [],
   "source": [
    "JPM = pd.read_csv('JPM.csv')\n",
    "JPM_Close = JPM['Adj Close'].values\n",
    "JPM_Rtn = np.divide(JPM_Close[1:] - JPM_Close[:-1], JPM_Close[:-1])"
   ]
  },
  {
   "cell_type": "code",
   "execution_count": 8,
   "id": "d0bef86f",
   "metadata": {},
   "outputs": [],
   "source": [
    "MSFT = pd.read_csv('MSFT.csv')\n",
    "MSFT_Close = MSFT['Adj Close'].values\n",
    "MSFT_Rtn = np.divide(MSFT_Close[1:] - MSFT_Close[:-1], MSFT_Close[:-1])"
   ]
  },
  {
   "cell_type": "code",
   "execution_count": 9,
   "id": "b72579b0",
   "metadata": {},
   "outputs": [],
   "source": [
    "PLD = pd.read_csv('PLD.csv')\n",
    "PLD_Close = PLD['Adj Close'].values\n",
    "PLD_Rtn = np.divide(PLD_Close[1:] - PLD_Close[:-1], PLD_Close[:-1])"
   ]
  },
  {
   "cell_type": "code",
   "execution_count": 10,
   "id": "8e59c3ac",
   "metadata": {},
   "outputs": [],
   "source": [
    "AMZN = pd.read_csv('AMZN.csv')\n",
    "AMZN_Close = AMZN['Adj Close'].values\n",
    "AMZN_Rtn = np.divide(AMZN_Close[1:] - AMZN_Close[:-1], AMZN_Close[:-1])"
   ]
  },
  {
   "cell_type": "code",
   "execution_count": 11,
   "id": "4c21e638",
   "metadata": {},
   "outputs": [],
   "source": [
    "XOM = pd.read_csv('XOM.csv')\n",
    "XOM_Close = XOM['Adj Close'].values\n",
    "XOM_Rtn = np.divide(XOM_Close[1:] - XOM_Close[:-1], XOM_Close[:-1])"
   ]
  },
  {
   "cell_type": "code",
   "execution_count": 12,
   "id": "8648e581",
   "metadata": {},
   "outputs": [],
   "source": [
    "JNJ = pd.read_csv('JNJ.csv')\n",
    "JNJ_Close = JNJ['Adj Close'].values\n",
    "JNJ_Rtn = np.divide(JNJ_Close[1:] - JNJ_Close[:-1], JNJ_Close[:-1])"
   ]
  },
  {
   "cell_type": "code",
   "execution_count": 13,
   "id": "d13acb43",
   "metadata": {},
   "outputs": [],
   "source": [
    "ATT = pd.read_csv('T.csv')\n",
    "ATT_Close = ATT['Adj Close'].values\n",
    "ATT_Rtn = np.divide(ATT_Close[1:] - ATT_Close[:-1], ATT_Close[:-1])"
   ]
  },
  {
   "cell_type": "code",
   "execution_count": 15,
   "id": "4b5bf6fb",
   "metadata": {},
   "outputs": [
    {
     "data": {
      "text/plain": [
       "262"
      ]
     },
     "execution_count": 15,
     "metadata": {},
     "output_type": "execute_result"
    }
   ],
   "source": [
    "len(ATT_Rtn)"
   ]
  },
  {
   "cell_type": "code",
   "execution_count": 16,
   "id": "dac9f4a9",
   "metadata": {},
   "outputs": [],
   "source": [
    "Returns = pd.DataFrame({'Date': MMM['Date'][:-2], 'MMM': MMMRtn[:-1], 'MSFT': MSFT_Rtn[:-1], \n",
    "                        'JPM': JPM_Rtn[:-1], 'PLD': PLD_Rtn[:-1],\n",
    "                        'AMZN': AMZN_Rtn[:-1], 'XOM': XOM_Rtn[:-1], 'JNJ': JNJ_Rtn[:-1], 'ATT': ATT_Rtn[:-1]})"
   ]
  },
  {
   "cell_type": "code",
   "execution_count": 17,
   "id": "5cc5eff5",
   "metadata": {},
   "outputs": [
    {
     "data": {
      "text/html": [
       "<div>\n",
       "<style scoped>\n",
       "    .dataframe tbody tr th:only-of-type {\n",
       "        vertical-align: middle;\n",
       "    }\n",
       "\n",
       "    .dataframe tbody tr th {\n",
       "        vertical-align: top;\n",
       "    }\n",
       "\n",
       "    .dataframe thead th {\n",
       "        text-align: right;\n",
       "    }\n",
       "</style>\n",
       "<table border=\"1\" class=\"dataframe\">\n",
       "  <thead>\n",
       "    <tr style=\"text-align: right;\">\n",
       "      <th></th>\n",
       "      <th>Date</th>\n",
       "      <th>MMM</th>\n",
       "      <th>MSFT</th>\n",
       "      <th>JPM</th>\n",
       "      <th>PLD</th>\n",
       "      <th>AMZN</th>\n",
       "      <th>XOM</th>\n",
       "      <th>JNJ</th>\n",
       "      <th>ATT</th>\n",
       "    </tr>\n",
       "  </thead>\n",
       "  <tbody>\n",
       "    <tr>\n",
       "      <th>0</th>\n",
       "      <td>2019-07-15</td>\n",
       "      <td>0.007937</td>\n",
       "      <td>0.034548</td>\n",
       "      <td>0.023604</td>\n",
       "      <td>0.016968</td>\n",
       "      <td>-0.010929</td>\n",
       "      <td>-0.002400</td>\n",
       "      <td>0.003223</td>\n",
       "      <td>0.041476</td>\n",
       "    </tr>\n",
       "    <tr>\n",
       "      <th>1</th>\n",
       "      <td>2019-07-22</td>\n",
       "      <td>-0.019715</td>\n",
       "      <td>-0.031414</td>\n",
       "      <td>-0.028308</td>\n",
       "      <td>-0.019486</td>\n",
       "      <td>-0.061661</td>\n",
       "      <td>-0.040904</td>\n",
       "      <td>0.002601</td>\n",
       "      <td>0.000586</td>\n",
       "    </tr>\n",
       "    <tr>\n",
       "      <th>2</th>\n",
       "      <td>2019-07-29</td>\n",
       "      <td>-0.041513</td>\n",
       "      <td>0.005917</td>\n",
       "      <td>-0.028248</td>\n",
       "      <td>0.016396</td>\n",
       "      <td>-0.008589</td>\n",
       "      <td>-0.012683</td>\n",
       "      <td>0.007400</td>\n",
       "      <td>0.010828</td>\n",
       "    </tr>\n",
       "    <tr>\n",
       "      <th>3</th>\n",
       "      <td>2019-08-05</td>\n",
       "      <td>-0.012051</td>\n",
       "      <td>-0.011473</td>\n",
       "      <td>-0.018407</td>\n",
       "      <td>0.006844</td>\n",
       "      <td>-0.008304</td>\n",
       "      <td>-0.035855</td>\n",
       "      <td>-0.005150</td>\n",
       "      <td>0.012450</td>\n",
       "    </tr>\n",
       "    <tr>\n",
       "      <th>4</th>\n",
       "      <td>2019-08-12</td>\n",
       "      <td>-0.026154</td>\n",
       "      <td>-0.016865</td>\n",
       "      <td>-0.015782</td>\n",
       "      <td>-0.006069</td>\n",
       "      <td>-0.023960</td>\n",
       "      <td>0.000427</td>\n",
       "      <td>-0.027634</td>\n",
       "      <td>-0.004290</td>\n",
       "    </tr>\n",
       "    <tr>\n",
       "      <th>...</th>\n",
       "      <td>...</td>\n",
       "      <td>...</td>\n",
       "      <td>...</td>\n",
       "      <td>...</td>\n",
       "      <td>...</td>\n",
       "      <td>...</td>\n",
       "      <td>...</td>\n",
       "      <td>...</td>\n",
       "      <td>...</td>\n",
       "    </tr>\n",
       "    <tr>\n",
       "      <th>256</th>\n",
       "      <td>2024-06-10</td>\n",
       "      <td>0.014767</td>\n",
       "      <td>0.016291</td>\n",
       "      <td>0.013004</td>\n",
       "      <td>-0.025737</td>\n",
       "      <td>0.029511</td>\n",
       "      <td>0.015122</td>\n",
       "      <td>0.022056</td>\n",
       "      <td>0.043084</td>\n",
       "    </tr>\n",
       "    <tr>\n",
       "      <th>257</th>\n",
       "      <td>2024-06-17</td>\n",
       "      <td>-0.001953</td>\n",
       "      <td>-0.006292</td>\n",
       "      <td>0.030362</td>\n",
       "      <td>0.035452</td>\n",
       "      <td>0.022054</td>\n",
       "      <td>0.039364</td>\n",
       "      <td>-0.017412</td>\n",
       "      <td>0.038587</td>\n",
       "    </tr>\n",
       "    <tr>\n",
       "      <th>258</th>\n",
       "      <td>2024-06-24</td>\n",
       "      <td>-0.008514</td>\n",
       "      <td>0.046113</td>\n",
       "      <td>0.012509</td>\n",
       "      <td>0.019143</td>\n",
       "      <td>0.034929</td>\n",
       "      <td>-0.015202</td>\n",
       "      <td>0.002189</td>\n",
       "      <td>-0.017792</td>\n",
       "    </tr>\n",
       "    <tr>\n",
       "      <th>259</th>\n",
       "      <td>2024-07-01</td>\n",
       "      <td>0.026846</td>\n",
       "      <td>-0.029964</td>\n",
       "      <td>0.006278</td>\n",
       "      <td>0.049712</td>\n",
       "      <td>-0.027550</td>\n",
       "      <td>-0.000882</td>\n",
       "      <td>0.023211</td>\n",
       "      <td>0.002131</td>\n",
       "    </tr>\n",
       "    <tr>\n",
       "      <th>260</th>\n",
       "      <td>2024-07-08</td>\n",
       "      <td>-0.001153</td>\n",
       "      <td>-0.036247</td>\n",
       "      <td>0.023617</td>\n",
       "      <td>0.029963</td>\n",
       "      <td>-0.058409</td>\n",
       "      <td>0.024720</td>\n",
       "      <td>0.032092</td>\n",
       "      <td>0.031737</td>\n",
       "    </tr>\n",
       "  </tbody>\n",
       "</table>\n",
       "<p>261 rows × 9 columns</p>\n",
       "</div>"
      ],
      "text/plain": [
       "           Date       MMM      MSFT       JPM       PLD      AMZN       XOM  \\\n",
       "0    2019-07-15  0.007937  0.034548  0.023604  0.016968 -0.010929 -0.002400   \n",
       "1    2019-07-22 -0.019715 -0.031414 -0.028308 -0.019486 -0.061661 -0.040904   \n",
       "2    2019-07-29 -0.041513  0.005917 -0.028248  0.016396 -0.008589 -0.012683   \n",
       "3    2019-08-05 -0.012051 -0.011473 -0.018407  0.006844 -0.008304 -0.035855   \n",
       "4    2019-08-12 -0.026154 -0.016865 -0.015782 -0.006069 -0.023960  0.000427   \n",
       "..          ...       ...       ...       ...       ...       ...       ...   \n",
       "256  2024-06-10  0.014767  0.016291  0.013004 -0.025737  0.029511  0.015122   \n",
       "257  2024-06-17 -0.001953 -0.006292  0.030362  0.035452  0.022054  0.039364   \n",
       "258  2024-06-24 -0.008514  0.046113  0.012509  0.019143  0.034929 -0.015202   \n",
       "259  2024-07-01  0.026846 -0.029964  0.006278  0.049712 -0.027550 -0.000882   \n",
       "260  2024-07-08 -0.001153 -0.036247  0.023617  0.029963 -0.058409  0.024720   \n",
       "\n",
       "          JNJ       ATT  \n",
       "0    0.003223  0.041476  \n",
       "1    0.002601  0.000586  \n",
       "2    0.007400  0.010828  \n",
       "3   -0.005150  0.012450  \n",
       "4   -0.027634 -0.004290  \n",
       "..        ...       ...  \n",
       "256  0.022056  0.043084  \n",
       "257 -0.017412  0.038587  \n",
       "258  0.002189 -0.017792  \n",
       "259  0.023211  0.002131  \n",
       "260  0.032092  0.031737  \n",
       "\n",
       "[261 rows x 9 columns]"
      ]
     },
     "execution_count": 17,
     "metadata": {},
     "output_type": "execute_result"
    }
   ],
   "source": [
    "Returns"
   ]
  },
  {
   "cell_type": "code",
   "execution_count": 19,
   "id": "f69db222",
   "metadata": {},
   "outputs": [],
   "source": [
    "Returns.to_csv('Returns.csv', header=True, index=False)"
   ]
  },
  {
   "cell_type": "code",
   "execution_count": null,
   "id": "86be0f6c",
   "metadata": {},
   "outputs": [],
   "source": [
    "MMM['Date'][:-1]"
   ]
  },
  {
   "cell_type": "code",
   "execution_count": 22,
   "id": "895a188b",
   "metadata": {},
   "outputs": [
    {
     "data": {
      "text/plain": [
       "['Date', 'MMM', 'MSFT', 'JPM', 'PLD', 'AMZN', 'XOM', 'JNJ', 'ATT']"
      ]
     },
     "execution_count": 22,
     "metadata": {},
     "output_type": "execute_result"
    }
   ],
   "source": [
    "list(Returns)"
   ]
  },
  {
   "cell_type": "code",
   "execution_count": 18,
   "id": "ba58e490",
   "metadata": {},
   "outputs": [
    {
     "ename": "TypeError",
     "evalue": "'<=' not supported between instances of 'str' and 'float'",
     "output_type": "error",
     "traceback": [
      "\u001b[1;31m---------------------------------------------------------------------------\u001b[0m",
      "\u001b[1;31mTypeError\u001b[0m                                 Traceback (most recent call last)",
      "Cell \u001b[1;32mIn[18], line 1\u001b[0m\n\u001b[1;32m----> 1\u001b[0m \u001b[43mReturns\u001b[49m\u001b[38;5;241;43m.\u001b[39;49m\u001b[43mvalues\u001b[49m\u001b[38;5;241;43m.\u001b[39;49m\u001b[43mmin\u001b[49m\u001b[43m(\u001b[49m\u001b[43m)\u001b[49m\n",
      "File \u001b[1;32mD:\\Anaconda\\lib\\site-packages\\numpy\\core\\_methods.py:45\u001b[0m, in \u001b[0;36m_amin\u001b[1;34m(a, axis, out, keepdims, initial, where)\u001b[0m\n\u001b[0;32m     43\u001b[0m \u001b[38;5;28;01mdef\u001b[39;00m \u001b[38;5;21m_amin\u001b[39m(a, axis\u001b[38;5;241m=\u001b[39m\u001b[38;5;28;01mNone\u001b[39;00m, out\u001b[38;5;241m=\u001b[39m\u001b[38;5;28;01mNone\u001b[39;00m, keepdims\u001b[38;5;241m=\u001b[39m\u001b[38;5;28;01mFalse\u001b[39;00m,\n\u001b[0;32m     44\u001b[0m           initial\u001b[38;5;241m=\u001b[39m_NoValue, where\u001b[38;5;241m=\u001b[39m\u001b[38;5;28;01mTrue\u001b[39;00m):\n\u001b[1;32m---> 45\u001b[0m     \u001b[38;5;28;01mreturn\u001b[39;00m \u001b[43mumr_minimum\u001b[49m\u001b[43m(\u001b[49m\u001b[43ma\u001b[49m\u001b[43m,\u001b[49m\u001b[43m \u001b[49m\u001b[43maxis\u001b[49m\u001b[43m,\u001b[49m\u001b[43m \u001b[49m\u001b[38;5;28;43;01mNone\u001b[39;49;00m\u001b[43m,\u001b[49m\u001b[43m \u001b[49m\u001b[43mout\u001b[49m\u001b[43m,\u001b[49m\u001b[43m \u001b[49m\u001b[43mkeepdims\u001b[49m\u001b[43m,\u001b[49m\u001b[43m \u001b[49m\u001b[43minitial\u001b[49m\u001b[43m,\u001b[49m\u001b[43m \u001b[49m\u001b[43mwhere\u001b[49m\u001b[43m)\u001b[49m\n",
      "\u001b[1;31mTypeError\u001b[0m: '<=' not supported between instances of 'str' and 'float'"
     ]
    }
   ],
   "source": [
    "Returns.values.min()"
   ]
  },
  {
   "cell_type": "code",
   "execution_count": null,
   "id": "2011007a",
   "metadata": {},
   "outputs": [],
   "source": []
  }
 ],
 "metadata": {
  "kernelspec": {
   "display_name": "Python 3 (ipykernel)",
   "language": "python",
   "name": "python3"
  },
  "language_info": {
   "codemirror_mode": {
    "name": "ipython",
    "version": 3
   },
   "file_extension": ".py",
   "mimetype": "text/x-python",
   "name": "python",
   "nbconvert_exporter": "python",
   "pygments_lexer": "ipython3",
   "version": "3.9.16"
  }
 },
 "nbformat": 4,
 "nbformat_minor": 5
}
